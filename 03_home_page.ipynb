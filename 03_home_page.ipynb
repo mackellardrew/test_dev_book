{
 "cells": [
  {
   "cell_type": "markdown",
   "metadata": {},
   "source": [
    "# (Sounds of Frustration Intensify)\n",
    "\n",
    "Well, not right away, but Harry says to expect more headaches as the examples get less trivial from now on.  One common issue is that we may see different outputs than he documents in the book.  Some degree of divergence is common when the examples get more complex.\n",
    "\n",
    "## Django Project Structure $ \\ni $ \"apps\"\n",
    "\n",
    "(I hope I used that right; I meant to say something like \"entails\" or \"includes\"; in [Set notation that may be that a set \"owns\" the latter term](https://www.geeksforgeeks.org/set-notations-in-latex/).)\n",
    "\n",
    "The point is that Django expects us to organize semi-autonomous code into elements called \"apps\", and you can initialize a new app with\n",
    "\n",
    "`python manage.py startapp lists`"
   ]
  },
  {
   "cell_type": "code",
   "execution_count": 1,
   "metadata": {},
   "outputs": [],
   "source": [
    "# trying it live; comment out after invoking:\n",
    "# !python manage.py startapp lists"
   ]
  },
  {
   "cell_type": "markdown",
   "metadata": {},
   "source": [
    "Which constructs a new file structure and dir:\n",
    "\n",
    "~~~bash\n",
    ".\n",
    "├── 00_prereqs.ipynb\n",
    "├── 01_django_setup_functional_test.ipynb\n",
    "├── 02_unittest_module.ipynb\n",
    "├── 03_home_page.ipynb\n",
    "├── README.md\n",
    "├── db.sqlite3\n",
    "├── functional_tests.py\n",
    "├── geckodriver.log\n",
    "├── lists\n",
    "│   ├── __init__.py\n",
    "│   ├── admin.py\n",
    "│   ├── apps.py\n",
    "│   ├── migrations\n",
    "│   │   └── __init__.py\n",
    "│   ├── models.py\n",
    "│   ├── tests.py\n",
    "│   └── views.py\n",
    "├── manage.py\n",
    "├── superlists\n",
    "│   ├── __init__.py\n",
    "│   ├── __pycache__\n",
    "│   │   ├── __init__.cpython-36.pyc\n",
    "│   │   ├── settings.cpython-36.pyc\n",
    "│   │   ├── urls.cpython-36.pyc\n",
    "│   │   └── wsgi.cpython-36.pyc\n",
    "│   ├── settings.py\n",
    "│   ├── urls.py\n",
    "│   └── wsgi.py\n",
    "├── test_dev_book.yml\n",
    "└── workspace.code-workspace\n",
    "~~~\n",
    "\n",
    "Note the major handles and their implied logic: models, views, and tests."
   ]
  },
  {
   "cell_type": "markdown",
   "metadata": {},
   "source": [
    "# Unit Tests vs Functional Tests\n",
    "\n",
    "Then there's a procedural note here about how to think about the two types of tests mentioned so far.  Basically (as mentioned in the previous chapter), Functional tests are meant to recapitulate the gist of the user experience, testing your code \"from the outside\" and seeing what it gets when a big chunk of it is run.  Unit tests are written from the point of view of the developer, and generally (as I interpret it at this point) test smaller chunks of your code, \"from the inside\".\n",
    "\n",
    "He further specifies the general workflow you use in Test-Driven Development:\n",
    "\n",
    "1. You write a functional test meant to capture how you anticipate the user to interact with your app\n",
    "2. Once the functional test fails as expected, you think about what code you'd need to get it to pass.  But before you actually write that, you write unit tests to capture how you expect that code to work, and how those lines themselves could fail.\n",
    "3. When you have a failing unit test for what you expect to get you past (part of) the functional test, you write the smallest unit of *application code* that would do something useful.\n",
    "4. Then you iterate over steps 2 and 3 as needed until your functional test can pass.\n",
    "\n",
    "<div class=\"alert alert-info\">I'll just quote verbatim here the last text of this section which takes yet another stab at contextualizing the distinction between these two kinds of tests: \"<i>Functional tests should help you build an application with the right functionality, and guarantee you never accidentally break it.  Unit tests should help you write code that's clean and bug-free.</i>\"</div>"
   ]
  },
  {
   "cell_type": "markdown",
   "metadata": {},
   "source": [
    "# Unit Testing in Django\n",
    "\n",
    "We need to modify that `lists/tests.py` file."
   ]
  },
  {
   "cell_type": "code",
   "execution_count": 3,
   "metadata": {},
   "outputs": [],
   "source": [
    "# %load lists/tests.py\n",
    "from django.test import TestCase\n",
    "\n",
    "# Create your tests here.\n"
   ]
  },
  {
   "cell_type": "markdown",
   "metadata": {},
   "source": [
    "Ok.  He notes how they prompt us by importing a class they expect to be useful, the `django.test.TestCase` class, which extends `unittest.TestCase`, adding functionality that may be relevant for creating web apps, specifically.\n",
    "\n",
    "Since this was added automatically by Django, rather than something we configured ourselves from the outset, Harry suggests adding a kind of crazy/silly test to it to ensure that it's being invoked and behaving as expected when the whole project is tested:"
   ]
  },
  {
   "cell_type": "code",
   "execution_count": 4,
   "metadata": {},
   "outputs": [
    {
     "name": "stdout",
     "output_type": "stream",
     "text": [
      "Overwriting lists/tests.py\n"
     ]
    }
   ],
   "source": [
    "%%writefile lists/tests.py\n",
    "\n",
    "from django.test import TestCase\n",
    "\n",
    "class SmokeTest(TestCase):\n",
    "\n",
    "    def test_bad_math(self):\n",
    "        self.assertEqual(1 + 1, 3)"
   ]
  },
  {
   "cell_type": "markdown",
   "metadata": {},
   "source": [
    "Then you invoke it (turns out this invocation *doesn't* require you fire up the server first in another window with `runserver`) by calling `python manage.py` in the main project, and specifying one additional keyword: `test`:\n",
    "\n",
    "~~~bash\n",
    "(test_dev_book) C:\\Data\\projects\\test_driven_development>python manage.py test\n",
    "Creating test database for alias 'default'...\n",
    "System check identified no issues (0 silenced).\n",
    "F\n",
    "======================================================================\n",
    "FAIL: test_bad_math (lists.tests.SmokeTest)\n",
    "----------------------------------------------------------------------\n",
    "Traceback (most recent call last):\n",
    "  File \"C:\\Data\\projects\\test_driven_development\\lists\\tests.py\", line 7, in test_bad_math\n",
    "    self.assertEqual(1 + 1, 3)\n",
    "AssertionError: 2 != 3\n",
    "\n",
    "----------------------------------------------------------------------\n",
    "Ran 1 test in 0.000s\n",
    "\n",
    "FAILED (failures=1)\n",
    "Destroying test database for alias 'default'...\n",
    "~~~"
   ]
  },
  {
   "cell_type": "markdown",
   "metadata": {},
   "source": []
  },
  {
   "cell_type": "markdown",
   "metadata": {},
   "source": []
  },
  {
   "cell_type": "markdown",
   "metadata": {},
   "source": []
  },
  {
   "cell_type": "markdown",
   "metadata": {},
   "source": []
  },
  {
   "cell_type": "markdown",
   "metadata": {},
   "source": []
  },
  {
   "cell_type": "markdown",
   "metadata": {},
   "source": []
  }
 ],
 "metadata": {
  "interpreter": {
   "hash": "132b65336a829e6530b03c2ac43b744d0aab8a1a430c616a24f2cd56f79cc52e"
  },
  "kernelspec": {
   "display_name": "Python 3.6.15 64-bit ('test_dev_book': conda)",
   "language": "python",
   "name": "python3"
  },
  "language_info": {
   "codemirror_mode": {
    "name": "ipython",
    "version": 3
   },
   "file_extension": ".py",
   "mimetype": "text/x-python",
   "name": "python",
   "nbconvert_exporter": "python",
   "pygments_lexer": "ipython3",
   "version": "3.6.15"
  },
  "orig_nbformat": 4
 },
 "nbformat": 4,
 "nbformat_minor": 2
}
