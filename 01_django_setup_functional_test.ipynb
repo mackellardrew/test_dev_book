{
 "cells": [
  {
   "cell_type": "markdown",
   "source": [
    "# Do Nothing Until You Have a Test\n",
    "\n",
    "As covered in the \"prereqs\" notebook, Harry says the whole point is to not write code until you've written a test for what you intend to write, and watch it fail:"
   ],
   "metadata": {}
  },
  {
   "cell_type": "code",
   "execution_count": 1,
   "source": [
    "from selenium import webdriver\r\n",
    "# from selenium.webdriver.firefox.options import Options\r\n",
    "\r\n",
    "# options = Options()\r\n",
    "# options.binary_location = (\r\n",
    "#     r'/mnt/c/Users/DCM0303/AppData/Local/Mozilla Firefox/firefox.exe'\r\n",
    "#     # 'wslview'\r\n",
    "# )\r\n",
    "# browser = webdriver.Firefox(\r\n",
    "#     executable_path = (\r\n",
    "#         r'/home/dcm0303/miniconda3/envs/test_dev_book/bin/geckodriver'\r\n",
    "#     ),\r\n",
    "#     options=options\r\n",
    "# )\r\n",
    "browser = webdriver.Firefox()\r\n",
    "browser.get('http://localhost:8000')\r\n",
    "\r\n",
    "assert 'Django' in browser.title"
   ],
   "outputs": [],
   "metadata": {}
  },
  {
   "cell_type": "markdown",
   "source": [
    "Ok, it took a long while to get to this initial failure.  The issue was associated with my tendency to try to run notebooks from within the WSL2 env on my Windows laptop, and the difficulty invoking Firefox from within WSL2, and pointing it at the Windows installation.  So I tried using the code above, but it doesn't manage to open a new Firefox window.  As of now, it's giving \r\n",
    "\r\n",
    "`TimeoutException: Message: Connection refused (os error 111)`\r\n",
    "\r\n",
    "i.e., timing out instead of opening a window.  But it was previously different.  I tried creating the same environment in a Windows-native installation and loading it in a VS Code window running that kernel, but had difficulty installing `conda` via `pip` (it requires a GNU compiler, which is difficult to do without admin permissions).  But I eventually found that Miniconda *can* be installed and the installation dir appended to the Windows path from an installer if you remove the preexisting Python installation in Windows.  From there I was able to reconstitute the environment and load on Windows; I'll hope that downstream steps invoking a browser window will function now.\r\n",
    "\r\n",
    "Anyways, Harry says to anticipate this error: a Firefox window opens, but can't find any host to which to connect, so the page is empty, and you get a `WebDriverException`.\r\n",
    "\r\n",
    "Also, I put it in the cell above, but Harry has us write it to a separate `functional_tests.py` file (he doesn't really work with Jupyter in the book), and to ensure compatability with the text, I'll try to mirror his project dir structure."
   ],
   "metadata": {}
  },
  {
   "cell_type": "code",
   "execution_count": 8,
   "source": [
    "import os\r\n",
    "\r\n",
    "proj_dir = r'C:\\Data\\projects\\test_driven_development'\r\n",
    "os.chdir(proj_dir)"
   ],
   "outputs": [],
   "metadata": {}
  },
  {
   "cell_type": "code",
   "execution_count": 10,
   "source": [
    "# %load functional_tests.py\r\n",
    "f_tests_str = (\r\n",
    "    \"\"\"from selenium import webdriver\r\n",
    "\r\n",
    "browser = webdriver.Firefox()\r\n",
    "browser.get('http://localhost:8000')\r\n",
    "\r\n",
    "assert 'Django' in browser.title\"\"\"\r\n",
    ")\r\n",
    "with open('functional_tests.py', 'w') as f:\r\n",
    "    f.write(f_tests_str)"
   ],
   "outputs": [],
   "metadata": {}
  },
  {
   "cell_type": "markdown",
   "source": [
    "## Getting Django Up and Running\r\n",
    "\r\n",
    "Ok, next he has us execute a command built into Django that's meant to set up a bare-bones project dir structure:"
   ],
   "metadata": {}
  },
  {
   "cell_type": "code",
   "execution_count": 15,
   "source": [
    "# cmd = 'python -m django-admin.py startproject superlists .'\r\n",
    "cmd = 'django-admin.py startproject superlists .'\r\n",
    "!{cmd}"
   ],
   "outputs": [
    {
     "output_type": "stream",
     "name": "stderr",
     "text": [
      "Access is denied.\n"
     ]
    }
   ],
   "metadata": {}
  },
  {
   "cell_type": "markdown",
   "source": [
    "Ok, I tried invoking the command from within this notebook via the IPython shell magic, or even from a Command Prompt window within the Windows OS, and they both fail because of file associations.  I had previously told Windows to default to opening `.py` files with Notepad++, but even once I've destroyed that association by following the instructions [here](https://techcult.com/how-to-remove-file-type-associations-in-windows-10/#Option_4_Remove_File_Association_for_a_particular_app_manually), it won't run, because now it finds no program capable of executing that command.  So it pops up a blue sys error window that says:\r\n",
    "\r\n",
    "~~~bash\r\n",
    "This app can't run on your PC\r\n",
    "\r\n",
    "To find a version for your PC, check with the software publisher.\r\n",
    "~~~\r\n",
    "\r\n",
    "And, once that's closed, the terminal just prints:\r\n",
    "\r\n",
    "`Access is denied.`\r\n",
    "\r\n",
    "So I instead ran it from within WSL2, and it worked, outputting the following:\r\n",
    "\r\n",
    "~~~bash\r\n",
    ".\r\n",
    "├── 00_prereqs.ipynb\r\n",
    "├── 01_django_setup_functional_test.ipynb\r\n",
    "├── dummy.py\r\n",
    "├── functional_tests.py\r\n",
    "├── geckodriver.log\r\n",
    "├── manage.py\r\n",
    "├── superlists\r\n",
    "│   ├── __init__.py\r\n",
    "│   ├── settings.py\r\n",
    "│   ├── urls.py\r\n",
    "│   └── wsgi.py\r\n",
    "├── test_dev_book.yml\r\n",
    "└── workspace.code-workspace\r\n",
    "~~~"
   ],
   "metadata": {}
  },
  {
   "cell_type": "markdown",
   "source": [
    "Well, anyways, that's the whole `proj_dir` structure; the stuff added by Django from that command is the `superlists` dir and the `manage.py` file.  Harry says the latter is \"Django's Swiss army knife\", and crucial for a Django project running as expected.\r\n",
    "\r\n",
    "He has us invoke it by passing that file, and `runserver`, to the interpreter.  Doesn't work via shell magic from within the Notebook, but when run in the terminal, it yields:\r\n",
    "\r\n",
    "~~~bash\r\n",
    "(test_dev_book) C:\\Data\\projects\\test_driven_development>python manage.py runserver\r\n",
    "Performing system checks...\r\n",
    "\r\n",
    "System check identified no issues (0 silenced).\r\n",
    "\r\n",
    "You have 13 unapplied migration(s). Your project may not work properly until you apply the migrations for app(s): admin, auth, contenttypes, sessions.\r\n",
    "Run 'python manage.py migrate' to apply them.\r\n",
    "January 20, 2022 - 15:48:10\r\n",
    "Django version 1.11.25, using settings 'superlists.settings'\r\n",
    "Starting development server at http://127.0.0.1:8000/\r\n",
    "Quit the server with CTRL-BREAK.\r\n",
    "~~~\r\n",
    "\r\n",
    "When I open that URL in a browser tab (it doesn't launch one for me when handled as above), it shows a blank page saying \"It worked!  Congratulations on your first Django-powered page.\"\r\n",
    "\r\n",
    "Next, with that terminal tab *still open* (i.e., still serving that `runserver` command), you open another, activate the same conda env, and run that `python functional_tests.py`, it opens yet another browser tab (showing the same page as opened by that `runserver` command), and the terminal returns you to the prompt, with no `AssertionError`.  Harry says that's the expected behavior.  So basically, a Django server needs to be running in order for our tests to run as configured."
   ],
   "metadata": {}
  },
  {
   "cell_type": "markdown",
   "source": [
    "## Git Repo\r\n",
    "\r\n",
    "Harry enjoins us to maintain the project as a Git repo."
   ],
   "metadata": {}
  },
  {
   "cell_type": "code",
   "execution_count": 18,
   "source": [
    "cmds = [\r\n",
    "    'git init .',\r\n",
    "]\r\n",
    "for file in (\r\n",
    "    'db.sqlite3',\r\n",
    "    'geckodriver.log',\r\n",
    "    '00_prereqs.ipynb',\r\n",
    "    '01_django_setup_functional_test.ipynb',\r\n",
    "):\r\n",
    "    cmds.append(f\"echo {file} >> .gitignore\")\r\n",
    "\r\n",
    "for cmd in cmds:\r\n",
    "    !{cmd}"
   ],
   "outputs": [
    {
     "output_type": "stream",
     "name": "stdout",
     "text": [
      "Initialized empty Git repository in C:/Data/projects/test_driven_development/.git/\n"
     ]
    },
    {
     "output_type": "stream",
     "name": "stderr",
     "text": [
      "hint: Using 'master' as the name for the initial branch. This default branch name\n",
      "hint: is subject to change. To configure the initial branch name to use in all\n",
      "hint: of your new repositories, which will suppress this warning, call:\n",
      "hint: \n",
      "hint: \tgit config --global init.defaultBranch <name>\n",
      "hint: \n",
      "hint: Names commonly chosen instead of 'master' are 'main', 'trunk' and\n",
      "hint: 'development'. The just-created branch can be renamed via this command:\n",
      "hint: \n",
      "hint: \tgit branch -m <name>\n"
     ]
    }
   ],
   "metadata": {}
  },
  {
   "cell_type": "code",
   "execution_count": 19,
   "source": [
    "!git add .\r\n",
    "!git status"
   ],
   "outputs": [
    {
     "output_type": "stream",
     "name": "stderr",
     "text": [
      "warning: LF will be replaced by CRLF in manage.py.\n",
      "The file will have its original line endings in your working directory\n",
      "warning: LF will be replaced by CRLF in superlists/settings.py.\n",
      "The file will have its original line endings in your working directory\n",
      "warning: LF will be replaced by CRLF in superlists/urls.py.\n",
      "The file will have its original line endings in your working directory\n",
      "warning: LF will be replaced by CRLF in superlists/wsgi.py.\n",
      "The file will have its original line endings in your working directory\n",
      "warning: LF will be replaced by CRLF in test_dev_book.yml.\n",
      "The file will have its original line endings in your working directory\n",
      "warning: LF will be replaced by CRLF in workspace.code-workspace.\n",
      "The file will have its original line endings in your working directory\n"
     ]
    },
    {
     "output_type": "stream",
     "name": "stdout",
     "text": [
      "On branch master\n",
      "\n",
      "No commits yet\n",
      "\n",
      "Changes to be committed:\n",
      "  (use \"git rm --cached <file>...\" to unstage)\n",
      "\tnew file:   .gitignore\n",
      "\tnew file:   .gitignore.swp\n",
      "\tnew file:   functional_tests.py\n",
      "\tnew file:   manage.py\n",
      "\tnew file:   superlists/__init__.py\n",
      "\tnew file:   superlists/__pycache__/__init__.cpython-36.pyc\n",
      "\tnew file:   superlists/__pycache__/settings.cpython-36.pyc\n",
      "\tnew file:   superlists/__pycache__/urls.cpython-36.pyc\n",
      "\tnew file:   superlists/__pycache__/wsgi.cpython-36.pyc\n",
      "\tnew file:   superlists/settings.py\n",
      "\tnew file:   superlists/urls.py\n",
      "\tnew file:   superlists/wsgi.py\n",
      "\tnew file:   test_dev_book.yml\n",
      "\tnew file:   workspace.code-workspace\n",
      "\n"
     ]
    }
   ],
   "metadata": {}
  },
  {
   "cell_type": "code",
   "execution_count": 20,
   "source": [
    "!git rm -r --cached superlists/__pycache__\r\n",
    "!echo \"__pycache__\" >> .gitignore\r\n",
    "!echo \"*.pyc\" >> .gitignore"
   ],
   "outputs": [
    {
     "output_type": "stream",
     "name": "stdout",
     "text": [
      "rm 'superlists/__pycache__/__init__.cpython-36.pyc'\n",
      "rm 'superlists/__pycache__/settings.cpython-36.pyc'\n",
      "rm 'superlists/__pycache__/urls.cpython-36.pyc'\n",
      "rm 'superlists/__pycache__/wsgi.cpython-36.pyc'\n"
     ]
    }
   ],
   "metadata": {}
  },
  {
   "cell_type": "markdown",
   "source": [
    "By default, that *only* maintains the repo within your local drive; I think I'll want to pass it to a Github repo (`git remote`), as well.  One option for initializing a Github repo from the `git` API is [here](https://stackoverflow.com/questions/2423777/is-it-possible-to-create-a-remote-repo-on-github-from-the-cli-without-opening-br#comment18746658_10325316) (well, that's a modification to the commented-upon solution).\r\n",
    "\r\n",
    "It's been forever since I used the `git` API directly; usually just managing projects via the VS Code plugin.  Furthermore, I don't know if I've *ever* used it to create a new repo; probably always just logged into the website in the past, created a new repo there, and then used the resulting URL to associate with local tracked projects.\r\n",
    "\r\n",
    "I found out that the CLI for interacting with Github itself is just `gh`.  There was an installation on my WSL2 VM at `/usr/bin/gh`; I have no idea how it got there, and it apparently isn't managed by `apt`.  It might've been installed from source code somehow; it's [available through conda](https://github.com/cli/cli#linux--bsd), but my base conda env didn't claim it.  Instructions I found kept saying to run `gh auth login`, but that returned \"`Error: No such command \"auth\"`\" for me.  I found [this note](https://github.com/cli/cli/issues/1742#issuecomment-694372134) saying that `gh` needed updating.  Since I don't know what installed it initially, I didn't know how to disable the existing installation, so I took the super-safe approach of just renaming it to `/usr/bin/_gh`, and proceeded to use Conda to install a newer version, and authenticated with that.\r\n",
    "\r\n",
    "Anyways, I then checked the repo in a browser, and, being empty, they offered some useful hints on how to populate it via the API:\r\n",
    "\r\n",
    "~~~bash\r\n",
    "git remote remove origin\r\n",
    "git branch -M main\r\n",
    "git remote add origin {url_to_repo}\r\n",
    "git push -u origin main\r\n",
    "~~~"
   ],
   "metadata": {}
  },
  {
   "cell_type": "markdown",
   "source": [
    "There's still a lot of muscle memory for me to build with both `git` and the `gh` API.  But it's writing for now."
   ],
   "metadata": {}
  },
  {
   "cell_type": "markdown",
   "source": [],
   "metadata": {}
  },
  {
   "cell_type": "markdown",
   "source": [],
   "metadata": {}
  },
  {
   "cell_type": "markdown",
   "source": [],
   "metadata": {}
  },
  {
   "cell_type": "markdown",
   "source": [],
   "metadata": {}
  },
  {
   "cell_type": "markdown",
   "source": [],
   "metadata": {}
  },
  {
   "cell_type": "markdown",
   "source": [],
   "metadata": {}
  },
  {
   "cell_type": "markdown",
   "source": [],
   "metadata": {}
  },
  {
   "cell_type": "markdown",
   "source": [],
   "metadata": {}
  },
  {
   "cell_type": "markdown",
   "source": [],
   "metadata": {}
  },
  {
   "cell_type": "markdown",
   "source": [],
   "metadata": {}
  },
  {
   "cell_type": "markdown",
   "source": [],
   "metadata": {}
  },
  {
   "cell_type": "markdown",
   "source": [],
   "metadata": {}
  },
  {
   "cell_type": "markdown",
   "source": [],
   "metadata": {}
  },
  {
   "cell_type": "markdown",
   "source": [],
   "metadata": {}
  },
  {
   "cell_type": "markdown",
   "source": [],
   "metadata": {}
  },
  {
   "cell_type": "markdown",
   "source": [],
   "metadata": {}
  },
  {
   "cell_type": "markdown",
   "source": [],
   "metadata": {}
  },
  {
   "cell_type": "markdown",
   "source": [],
   "metadata": {}
  }
 ],
 "metadata": {
  "orig_nbformat": 4,
  "language_info": {
   "name": "python",
   "version": "3.6.15",
   "mimetype": "text/x-python",
   "codemirror_mode": {
    "name": "ipython",
    "version": 3
   },
   "pygments_lexer": "ipython3",
   "nbconvert_exporter": "python",
   "file_extension": ".py"
  },
  "kernelspec": {
   "name": "python3",
   "display_name": "Python 3.6.15 64-bit ('test_dev_book': conda)"
  },
  "interpreter": {
   "hash": "132b65336a829e6530b03c2ac43b744d0aab8a1a430c616a24f2cd56f79cc52e"
  }
 },
 "nbformat": 4,
 "nbformat_minor": 2
}