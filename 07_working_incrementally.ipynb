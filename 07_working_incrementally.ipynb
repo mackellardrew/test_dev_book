{
 "cells": [
  {
   "cell_type": "markdown",
   "metadata": {},
   "source": [
    "# More Users\n",
    "\n",
    "Ok, the main point of this chapter is to go from our state of assuming that all users will share a common to-do list on the site to the state where we support multiple independent users.  The injunction with which we begin is, as always in this book, to consider first how we would confirm that whatever implementation we choose to realize this goal *is* in fact successful.\n",
    "\n",
    "Here's an interesting point: he suggests that our functional tests file represents the closest thing that we have for a design document for this project.  I like that way of looking at the TDD paradigm: rather than keeping everything scattered and nebulous in your mind, you could be using the files storing your functional tests as a way to plan around the project; what should go where."
   ]
  },
  {
   "cell_type": "code",
   "execution_count": 2,
   "metadata": {},
   "outputs": [
    {
     "name": "stdout",
     "output_type": "stream",
     "text": [
      "Overwriting functional_tests/tests.py\n"
     ]
    }
   ],
   "source": [
    "%%writefile functional_tests/tests.py\n",
    "from django.test import LiveServerTestCase\n",
    "from selenium import webdriver\n",
    "from selenium.webdriver.common.keys import Keys\n",
    "from selenium.common.exceptions import WebDriverException\n",
    "import time\n",
    "import unittest\n",
    "\n",
    "MAX_WAIT = 10\n",
    "\n",
    "class NewVisitorTest(LiveServerTestCase):\n",
    "\n",
    "    def setUp(self):\n",
    "        self.browser = webdriver.Firefox()\n",
    "\n",
    "    def tearDown(self):\n",
    "        self.browser.quit()\n",
    "\n",
    "    def wait_for_row_in_list_table(self, row_text):\n",
    "        start_time = time.time()\n",
    "        while True:\n",
    "            try:\n",
    "                table = self.browser.find_element_by_id('id_list_table')\n",
    "                rows = table.find_elements_by_tag_name('tr')\n",
    "                self.assertIn(row_text, [row.text for row in rows])\n",
    "                return\n",
    "            except (AssertionError, WebDriverException) as e:\n",
    "                if time.time() - start_time > MAX_WAIT:\n",
    "                    raise e\n",
    "                time.sleep(0.5)\n",
    "\n",
    "    def test_can_start_a_list_and_retrieve_it_later(self):\n",
    "        # Edith has heard about a cool new online to-do app.  She goes\n",
    "        # to check out its homepage\n",
    "        self.browser.get(self.live_server_url)\n",
    "\n",
    "        # She notices the page title and header mention to-do lists\n",
    "        self.assertIn('To-Do', self.browser.title)\n",
    "        header_text = self.browser.find_element_by_tag_name('h1').text\n",
    "        self.assertIn('To-Do', header_text)\n",
    "\n",
    "        # She is invited to enter a to-do item straight away\n",
    "        inputbox = self.browser.find_element_by_id('id_new_item')\n",
    "        self.assertEqual(\n",
    "            inputbox.get_attribute('placeholder'),\n",
    "            'Enter a to-do item'\n",
    "        )\n",
    "\n",
    "        # She types \"Buy peacock feathers\" into a text box \n",
    "        # (Edith's hobby is tying fly-fishing lures)\n",
    "        inputbox.send_keys('Buy peacock feathers')\n",
    "\n",
    "        # When she hits enter, the page updates, and now the page lists\n",
    "        # \"1: Buy peacock feathers\" as an item in a to-do list table\n",
    "        inputbox.send_keys(Keys.ENTER)\n",
    "        self.wait_for_row_in_list_table('1: Buy peacock feathers')\n",
    "\n",
    "        # There is still a text box inviting her to add another item.\n",
    "        # She enters \"Use peacock feathers to make a fly\"\n",
    "        # (Edith is very methodical)\n",
    "        inputbox = self.browser.find_element_by_id('id_new_item')\n",
    "        inputbox.send_keys('Use peacock feathers to make a fly')\n",
    "        inputbox.send_keys(Keys.ENTER)\n",
    "\n",
    "        # The page updates again, and now shows both items on her list\n",
    "        self.wait_for_row_in_list_table('1: Buy peacock feathers')\n",
    "        self.wait_for_row_in_list_table('2: Use peacock feathers to make a fly')\n",
    "\n",
    "        # Edith wonders whether the site will remember her list.  Then she sees\n",
    "        # that the site has generated a unique URL for her -- there is some \n",
    "        # explanatory text to that effect.\n",
    "        self.fail('Finish the test!')\n",
    "\n",
    "        # She visits that URL - her to-do list is still there.\n",
    "\n",
    "        # Satisfied, she goes back to sleep"
   ]
  },
  {
   "cell_type": "markdown",
   "metadata": {},
   "source": [
    "# Agile vs. \"Big Design Up Front\"\n",
    "\n",
    "Ok, another interesting point about design philosophy follows immediately.  Harry says that the traditional way to tackle large engineering projects would be to try to plan everything out with paper (or at least schematic software), figuring out where everything should go before you start writing code.  TDD, on the other hand, was derived from or otherwise aligned with the [AGILE design movement](https://en.wikipedia.org/wiki/Agile_software_development), which emphasizes incremental, iterative design, rather than figuring you can make an overarching plan from the very get-go that will prove very robust to complications encountered when coding up the details.  Basically, get your hands dirty early on, and expect the need to refactor.\n",
    "\n",
    "Of course, the advocated answer is still not really to just dive in mindlessly, rather, it's to think in mid-sized, modular chunks.  The emphasis is on delivering a \"minimal viable product\", getting it in the field where you can collect real-world feedback about its reception.  Furthermore, this mindset is meant to counter the temptation to add on additional features and functionality that you might envision in a \"perfect\" or otherwise optimal app.  The initialism is \"**YAGNI**\", for \"you ain't gonna need it\": let the users tell you if something is lacking.\n",
    "\n",
    "In this case, the plan to support multiple users involves having the server return customized URLs for each user, so they see different content based on the recognition of their particular credentials, and thus previously stored list items.\n",
    "\n",
    "\n",
    "## REST\n",
    "\n",
    "There's another term here, the REST (Representational State Transfer) API paradigm, which sounds like its gist is that the URL returned for any part of a web app/site should reflect the \"data structure\" of the content.  In practice, Harry suggests that the trailing part of the URL for a to-do list should contain:\n",
    "\n",
    "* `lists/new` for a page that accepts POST requests to generate new lists\n",
    "* `lists/list_name` to view the contents of an existing list\n",
    "* `lists/list_name/add_item` for a page that accepts POST requests to add to a list"
   ]
  },
  {
   "cell_type": "markdown",
   "metadata": {},
   "source": [
    "## Next Steps\n",
    "\n",
    "He suggests that refactoring to support multiple users will involve creating an entirely new functional test; not sure yet if that means a new file, a new class in our existing module, or just new methods within the existing class.  ...Ok, it is quickly revealed that it's the latter option: new methods tacked on to our existing setup.  Ah, ok, but also some refactoring of existing ones; we're not just going to leave in place the soon-to-be-irrelevant methods that assumed that all visitors to the site shared one list.  So some shuffling around of code within the tests."
   ]
  },
  {
   "cell_type": "code",
   "execution_count": 4,
   "metadata": {},
   "outputs": [
    {
     "name": "stdout",
     "output_type": "stream",
     "text": [
      "Overwriting functional_tests/tests.py\n"
     ]
    }
   ],
   "source": [
    "%%writefile functional_tests/tests.py\n",
    "from django.test import LiveServerTestCase\n",
    "from selenium import webdriver\n",
    "from selenium.webdriver.common.keys import Keys\n",
    "from selenium.common.exceptions import WebDriverException\n",
    "import time\n",
    "import unittest\n",
    "\n",
    "MAX_WAIT = 10\n",
    "\n",
    "class NewVisitorTest(LiveServerTestCase):\n",
    "\n",
    "    def setUp(self):\n",
    "        self.browser = webdriver.Firefox()\n",
    "\n",
    "    def tearDown(self):\n",
    "        self.browser.quit()\n",
    "\n",
    "    def wait_for_row_in_list_table(self, row_text):\n",
    "        start_time = time.time()\n",
    "        while True:\n",
    "            try:\n",
    "                table = self.browser.find_element_by_id('id_list_table')\n",
    "                rows = table.find_elements_by_tag_name('tr')\n",
    "                self.assertIn(row_text, [row.text for row in rows])\n",
    "                return\n",
    "            except (AssertionError, WebDriverException) as e:\n",
    "                if time.time() - start_time > MAX_WAIT:\n",
    "                    raise e\n",
    "                time.sleep(0.5)\n",
    "\n",
    "    def test_can_start_a_list_for_one_user(self):\n",
    "        # Edith has heard about a cool new online to-do app.  She goes\n",
    "        # to check out its homepage\n",
    "        self.browser.get(self.live_server_url)\n",
    "\n",
    "        # She notices the page title and header mention to-do lists\n",
    "        self.assertIn('To-Do', self.browser.title)\n",
    "        header_text = self.browser.find_element_by_tag_name('h1').text\n",
    "        self.assertIn('To-Do', header_text)\n",
    "\n",
    "        # She is invited to enter a to-do item straight away\n",
    "        inputbox = self.browser.find_element_by_id('id_new_item')\n",
    "        self.assertEqual(\n",
    "            inputbox.get_attribute('placeholder'),\n",
    "            'Enter a to-do item'\n",
    "        )\n",
    "\n",
    "        # She types \"Buy peacock feathers\" into a text box \n",
    "        # (Edith's hobby is tying fly-fishing lures)\n",
    "        inputbox.send_keys('Buy peacock feathers')\n",
    "\n",
    "        # When she hits enter, the page updates, and now the page lists\n",
    "        # \"1: Buy peacock feathers\" as an item in a to-do list table\n",
    "        inputbox.send_keys(Keys.ENTER)\n",
    "        self.wait_for_row_in_list_table('1: Buy peacock feathers')\n",
    "\n",
    "        # There is still a text box inviting her to add another item.\n",
    "        # She enters \"Use peacock feathers to make a fly\"\n",
    "        # (Edith is very methodical)\n",
    "        inputbox = self.browser.find_element_by_id('id_new_item')\n",
    "        inputbox.send_keys('Use peacock feathers to make a fly')\n",
    "        inputbox.send_keys(Keys.ENTER)\n",
    "\n",
    "        # The page updates again, and now shows both items on her list\n",
    "        self.wait_for_row_in_list_table('1: Buy peacock feathers')\n",
    "        self.wait_for_row_in_list_table('2: Use peacock feathers to make a fly')\n",
    "\n",
    "        # Satisfied, she goes back to sleep\n",
    "\n",
    "    def test_multiple_users_can_start_lists_at_different_urls(self):\n",
    "        # Edith starts a new to-do list\n",
    "        self.browser.get(self.live_server_url)\n",
    "        inputbox = self.browser.find_element_by_id('id_new_item')\n",
    "        inputbox.send_keys('Buy peacock feathers')\n",
    "        inputbox.send_keys(Keys.ENTER)\n",
    "        self.wait_for_row_in_list_table('1: Buy peacock feathers')\n",
    "\n",
    "        # She notices that her list has a unique URL\n",
    "        edith_list_url = self.browser.current_url\n",
    "        self.assertRegex(edith_list_url, '/lists/.+')\n",
    "\n",
    "        # Now a new user, Francis, comes along to the site.\n",
    "\n",
    "        ## We use a new browser session to make sure that no information\n",
    "        ## of Edith's is coming through from cookies, etc.\n",
    "        self.browser.quit()\n",
    "        self.browser = webdriver.Firefox()\n",
    "\n",
    "        # Francis visits the home page.  There is no sign of Edith's list\n",
    "        self.browser.get(self.live_server_url)\n",
    "        page_text = self.browser.find_element_by_tag_name('body').text\n",
    "        self.assertNotIn('Buy peacock feathers', page_text)\n",
    "        self.assertNotIn('make a fly', page_text)\n",
    "\n",
    "        # Francis starts a new list by entering a new item.\n",
    "        # He is less intersting than Edith...\n",
    "        inputbox = self.browser.find_element_by_id('id_new_item')\n",
    "        inputbox.send_keys('Buy milk')\n",
    "        inputbox.send_keys(Keys.ENTER)\n",
    "        self.wait_for_row_in_list_table('1: Buy milk')\n",
    "\n",
    "        # Francis gets his own unique URL\n",
    "        francis_list_url = self.browser.current_url\n",
    "        self.assertRegex(francis_list_url, '/lists.+')\n",
    "        self.assertNotEqual(francis_list_url, edith_list_url)\n",
    "\n",
    "        # Again, there is no trace of Edith's list\n",
    "        page_text = self.browser.find_element_by_tag_name('body').text\n",
    "        self.assertNotIn('Buy peacock feathers', page_text)\n",
    "        self.assertIn('Buy milk', page_text)\n",
    "\n",
    "        # Satisfied, they both go back to sleep"
   ]
  },
  {
   "cell_type": "markdown",
   "metadata": {},
   "source": [
    "Harry explains that the double-hash-mark lines represent *meta-comments*, which is really a bit of an aside to the dev reviewing the test, explaining *why* a particular step is being coded into the test that the user themselves wouldn't necessarily execute.  It's breaking the flow of assuming that the comments and code all represent a user's experience in navigating the site.  Here, it's assumed that another dev wouldn't understand why we're closing the browser (because it's not yet clear that a separate user is about to come on).\n",
    "\n",
    "Now we run the modified functional test, hoping that `test_can_start_a_list_for_one_user` passes and `test_multiple_users_can_start_lists_at_different_urls` will fail..."
   ]
  },
  {
   "cell_type": "code",
   "execution_count": 1,
   "metadata": {},
   "outputs": [
    {
     "name": "stdout",
     "output_type": "stream",
     "text": [
      "Creating test database for alias 'default'...\n",
      "System check identified no issues (0 silenced).\n",
      "Destroying test database for alias 'default'...\n"
     ]
    },
    {
     "name": "stderr",
     "output_type": "stream",
     "text": [
      ".F\n",
      "======================================================================\n",
      "FAIL: test_multiple_users_can_start_lists_at_different_urls (functional_tests.tests.NewVisitorTest)\n",
      "----------------------------------------------------------------------\n",
      "Traceback (most recent call last):\n",
      "  File \"c:\\Data\\projects\\test_driven_development\\functional_tests\\tests.py\", line 80, in test_multiple_users_can_start_lists_at_different_urls\n",
      "    self.assertRegex(edith_list_url, '/lists/.+')\n",
      "AssertionError: Regex didn't match: '/lists/.+' not found in 'http://localhost:64258/'\n",
      "\n",
      "----------------------------------------------------------------------\n",
      "Ran 2 tests in 15.636s\n",
      "\n",
      "FAILED (failures=1)\n"
     ]
    }
   ],
   "source": [
    "!python manage.py test functional_tests"
   ]
  },
  {
   "cell_type": "markdown",
   "metadata": {},
   "source": [
    "And that *is* the outcome anticipated by the text.  He suggests a commit to the remote repo at this point."
   ]
  },
  {
   "cell_type": "markdown",
   "metadata": {},
   "source": []
  },
  {
   "cell_type": "markdown",
   "metadata": {},
   "source": []
  },
  {
   "cell_type": "markdown",
   "metadata": {},
   "source": []
  },
  {
   "cell_type": "markdown",
   "metadata": {},
   "source": []
  },
  {
   "cell_type": "markdown",
   "metadata": {},
   "source": []
  },
  {
   "cell_type": "markdown",
   "metadata": {},
   "source": []
  },
  {
   "cell_type": "markdown",
   "metadata": {},
   "source": []
  },
  {
   "cell_type": "markdown",
   "metadata": {},
   "source": []
  },
  {
   "cell_type": "markdown",
   "metadata": {},
   "source": []
  },
  {
   "cell_type": "markdown",
   "metadata": {},
   "source": []
  },
  {
   "cell_type": "markdown",
   "metadata": {},
   "source": []
  },
  {
   "cell_type": "markdown",
   "metadata": {},
   "source": []
  },
  {
   "cell_type": "markdown",
   "metadata": {},
   "source": []
  },
  {
   "cell_type": "markdown",
   "metadata": {},
   "source": []
  },
  {
   "cell_type": "markdown",
   "metadata": {},
   "source": []
  },
  {
   "cell_type": "markdown",
   "metadata": {},
   "source": []
  },
  {
   "cell_type": "markdown",
   "metadata": {},
   "source": []
  },
  {
   "cell_type": "markdown",
   "metadata": {},
   "source": []
  },
  {
   "cell_type": "markdown",
   "metadata": {},
   "source": []
  },
  {
   "cell_type": "markdown",
   "metadata": {},
   "source": []
  },
  {
   "cell_type": "markdown",
   "metadata": {},
   "source": []
  },
  {
   "cell_type": "markdown",
   "metadata": {},
   "source": []
  },
  {
   "cell_type": "markdown",
   "metadata": {},
   "source": []
  },
  {
   "cell_type": "markdown",
   "metadata": {},
   "source": []
  },
  {
   "cell_type": "markdown",
   "metadata": {},
   "source": []
  },
  {
   "cell_type": "markdown",
   "metadata": {},
   "source": []
  },
  {
   "cell_type": "markdown",
   "metadata": {},
   "source": []
  },
  {
   "cell_type": "markdown",
   "metadata": {},
   "source": []
  },
  {
   "cell_type": "markdown",
   "metadata": {},
   "source": []
  },
  {
   "cell_type": "markdown",
   "metadata": {},
   "source": []
  },
  {
   "cell_type": "markdown",
   "metadata": {},
   "source": []
  },
  {
   "cell_type": "markdown",
   "metadata": {},
   "source": []
  },
  {
   "cell_type": "markdown",
   "metadata": {},
   "source": []
  },
  {
   "cell_type": "markdown",
   "metadata": {},
   "source": []
  },
  {
   "cell_type": "markdown",
   "metadata": {},
   "source": []
  },
  {
   "cell_type": "markdown",
   "metadata": {},
   "source": []
  },
  {
   "cell_type": "markdown",
   "metadata": {},
   "source": []
  }
 ],
 "metadata": {
  "interpreter": {
   "hash": "feed05ccc7eb225dc818f24e82979f91976c426d29a2051bc4ff0a12e22a2954"
  },
  "kernelspec": {
   "display_name": "Python 3.6.15 ('test_dev_book')",
   "language": "python",
   "name": "python3"
  },
  "language_info": {
   "codemirror_mode": {
    "name": "ipython",
    "version": 3
   },
   "file_extension": ".py",
   "mimetype": "text/x-python",
   "name": "python",
   "nbconvert_exporter": "python",
   "pygments_lexer": "ipython3",
   "version": "3.6.15"
  },
  "orig_nbformat": 4
 },
 "nbformat": 4,
 "nbformat_minor": 2
}
