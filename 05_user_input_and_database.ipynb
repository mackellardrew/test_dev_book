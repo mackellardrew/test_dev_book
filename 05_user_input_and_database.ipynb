{
 "cells": [
  {
   "cell_type": "markdown",
   "metadata": {},
   "source": [
    "Ok, so at the end of the last chapter, we found that the functional test's attempt to write to the table in our HTML to-do list was not saving the input.  Harry says that you need more than just Selenium to do that; you need to specify how to get the input into a database backing up the page.  You could use HTML5 or JavaScript, but we start with a simple HTML POST request.\n",
    "\n",
    "The way this is done is actually to write it into our `home.html` template file, with an `input` possessing a `name` attribute, and wrapping that in a `<form method=\"POST\">` tag.  Furthermore, this tag goes around your previously-entered `input` item with the `placeholder` attribute saying `\"Enter a to-do item\"`:"
   ]
  },
  {
   "cell_type": "code",
   "execution_count": 2,
   "metadata": {},
   "outputs": [
    {
     "name": "stdout",
     "output_type": "stream",
     "text": [
      "Overwriting lists/templates/home.html\n"
     ]
    }
   ],
   "source": [
    "%%writefile lists/templates/home.html\n",
    "<html>\n",
    "    <head>\n",
    "        <title>To-Do lists</title>\n",
    "    </head>\n",
    "    <body>\n",
    "        <h1>Your To-Do list</h1>\n",
    "        <form method=\"POST\">\n",
    "            <input id=\"id_new_item\" placeholder=\"Enter a to-do item\" />\n",
    "        </form>\n",
    "        <table id=\"id_list_table\">\n",
    "        </table>\n",
    "    </body>\n",
    "</html>\n"
   ]
  },
  {
   "cell_type": "code",
   "execution_count": 4,
   "metadata": {},
   "outputs": [],
   "source": [
    "# !python functional_tests.py"
   ]
  },
  {
   "cell_type": "markdown",
   "metadata": {},
   "source": [
    "Yields\n",
    "\n",
    "`selenium.common.exceptions.NoSuchElementException: Message: Unable to locate element: [id=\"id_list_table\"]`\n",
    "\n",
    "as anticipated by the text.\n",
    "\n",
    "He suggests that, when confronted with an error that's hard to interpret, like this one, there are a few common steps to consider trying:\n",
    "\n",
    "* Add `print` statements to get more info about the state (or, presumably, execute with debugging turned on in VS Code or other IDE)\n",
    "* Try to write more context into your Error statements, to reflect the current state of the interpreter\n",
    "* Try firing up your app server and just check the page yourself (i.e., not within a functional test)\n",
    "* Use `time.sleep` to slow down the execution, giving you more time to visualize what's going on with the site\n",
    "\n",
    "We actually already have the `time.sleep` option implemented in the functional test, so he suggests just extending it from 1 second as a quick sanity check."
   ]
  },
  {
   "cell_type": "code",
   "execution_count": 6,
   "metadata": {},
   "outputs": [
    {
     "name": "stdout",
     "output_type": "stream",
     "text": [
      "Overwriting functional_tests.py\n"
     ]
    }
   ],
   "source": [
    "%%writefile functional_tests.py\n",
    "from selenium import webdriver\n",
    "from selenium.webdriver.common.keys import Keys\n",
    "import time\n",
    "import unittest\n",
    "\n",
    "class NewVisitorTest(unittest.TestCase):\n",
    "\n",
    "    def setUp(self):\n",
    "        self.browser = webdriver.Firefox()\n",
    "\n",
    "    def tearDown(self):\n",
    "        self.browser.quit()\n",
    "\n",
    "    def test_can_start_a_list_and_retrieve_it_later(self):\n",
    "        # Edith has heard about a cool new online to-do app.  She goes\n",
    "        # to check out its homepage\n",
    "        self.browser.get('http://localhost:8000')\n",
    "\n",
    "        # She notices the page title and header mention to-do lists\n",
    "        self.assertIn('To-Do', self.browser.title)\n",
    "        header_text = self.browser.find_element_by_tag_name('h1').text\n",
    "        self.assertIn('To-Do', header_text)\n",
    "\n",
    "        # She is invited to enter a to-do item straight away\n",
    "        inputbox = self.browser.find_element_by_id('id_new_item')\n",
    "        self.assertEqual(\n",
    "            inputbox.get_attribute('placeholder'),\n",
    "            'Enter a to-do item'\n",
    "        )\n",
    "\n",
    "        # She types \"Buy peacock feathers\" into a text box \n",
    "        # (Edith's hobby is tying fly-fishing lures)\n",
    "        inputbox.send_keys('Buy peacock feathers')\n",
    "\n",
    "        # When she hits enter, the page updates, and now the page lists\n",
    "        # \"1: Buy peacock feathers\" as an item in a to-do list table\n",
    "        inputbox.send_keys(Keys.ENTER)\n",
    "        time.sleep(60)\n",
    "\n",
    "        table = self.browser.find_element_by_id('id_list_table')\n",
    "        rows = table.find_elements_by_tag_name('tr')\n",
    "        self.assertTrue(\n",
    "            any(row.text == '1: Buy peacock feathers' for row in rows),\n",
    "            \"New to-do item did not appear in table\"\n",
    "        )\n",
    "\n",
    "        # There is still a text box inviting her to add another item.\n",
    "        # Shee enters \"Use peacock feathers to make a fly\"\n",
    "        # (Edith is very methodical)\n",
    "        self.fail('Finish the test!')\n",
    "\n",
    "        # The page updates again, and now shows both items on her list\n",
    "        # ...\n",
    "\n",
    "if __name__ == '__main__':\n",
    "    unittest.main(warnings='ignore')\n"
   ]
  },
  {
   "cell_type": "code",
   "execution_count": 8,
   "metadata": {},
   "outputs": [
    {
     "name": "stderr",
     "output_type": "stream",
     "text": [
      "E\n",
      "======================================================================\n",
      "ERROR: test_can_start_a_list_and_retrieve_it_later (__main__.NewVisitorTest)\n",
      "----------------------------------------------------------------------\n",
      "Traceback (most recent call last):\n",
      "  File \"functional_tests.py\", line 40, in test_can_start_a_list_and_retrieve_it_later\n",
      "    table = self.browser.find_element_by_id('id_list_table')\n",
      "  File \"C:\\Users\\DCM0303\\Miniconda3\\envs\\test_dev_book\\lib\\site-packages\\selenium\\webdriver\\remote\\webdriver.py\", line 360, in find_element_by_id\n",
      "    return self.find_element(by=By.ID, value=id_)\n",
      "  File \"C:\\Users\\DCM0303\\Miniconda3\\envs\\test_dev_book\\lib\\site-packages\\selenium\\webdriver\\remote\\webdriver.py\", line 978, in find_element\n",
      "    'value': value})['value']\n",
      "  File \"C:\\Users\\DCM0303\\Miniconda3\\envs\\test_dev_book\\lib\\site-packages\\selenium\\webdriver\\remote\\webdriver.py\", line 321, in execute\n",
      "    self.error_handler.check_response(response)\n",
      "  File \"C:\\Users\\DCM0303\\Miniconda3\\envs\\test_dev_book\\lib\\site-packages\\selenium\\webdriver\\remote\\errorhandler.py\", line 242, in check_response\n",
      "    raise exception_class(message, screen, stacktrace)\n",
      "selenium.common.exceptions.NoSuchElementException: Message: Unable to locate element: [id=\"id_list_table\"]\n",
      "\n",
      "\n",
      "----------------------------------------------------------------------\n",
      "Ran 1 test in 66.711s\n",
      "\n",
      "FAILED (errors=1)\n"
     ]
    }
   ],
   "source": [
    "!python functional_tests.py"
   ]
  },
  {
   "cell_type": "markdown",
   "metadata": {},
   "source": [
    "Ok, doing that lets you see the page before the test checks and closes the browser.  Major text output is:\n",
    "\n",
    "<blockquote><p>CSRF verification failed. Request aborted.</p><p>You are seeing this message because this site requires a CSRF cookie when submitting forms. This cookie is required for security reasons, to ensure that your browser is not being hijacked by third parties.</p><p>If you have configured your browser to disable cookies, please re-enable them, at least for this site, or for 'same-origin' requests.</p></blockquote>\n",
    "\n",
    "That's a *bit* more context: something about cookies.  The text at this point has a box indicating that CSRF stands for \"*Cross-Site Request Forgery*\", a form of exploit.  There's no real way to anticipate what the heck it's about and how to deal with it without a deep dive into the web, but it turns out that there's a specific way that [Django handles CSRF](https://docs.djangoproject.com/en/4.0/ref/csrf/) that involves just inserting the template magic\n",
    "\n",
    "`{% csrf_token %}`\n",
    "\n",
    "into the POST request form, right after your `input` tag:"
   ]
  },
  {
   "cell_type": "code",
   "execution_count": 12,
   "metadata": {},
   "outputs": [
    {
     "name": "stdout",
     "output_type": "stream",
     "text": [
      "Overwriting lists/templates/home.html\n"
     ]
    }
   ],
   "source": [
    "%%writefile lists/templates/home.html\n",
    "<html>\n",
    "    <head>\n",
    "        <title>To-Do lists</title>\n",
    "    </head>\n",
    "    <body>\n",
    "        <h1>Your To-Do list</h1>\n",
    "        <form method=\"POST\">\n",
    "            <input id=\"id_new_item\" placeholder=\"Enter a to-do item\" />\n",
    "            {% csrf_token %}\n",
    "        </form>\n",
    "        <table id=\"id_list_table\">\n",
    "        </table>\n",
    "    </body>\n",
    "</html>\n"
   ]
  },
  {
   "cell_type": "code",
   "execution_count": 13,
   "metadata": {},
   "outputs": [
    {
     "name": "stderr",
     "output_type": "stream",
     "text": [
      "F\n",
      "======================================================================\n",
      "FAIL: test_can_start_a_list_and_retrieve_it_later (__main__.NewVisitorTest)\n",
      "----------------------------------------------------------------------\n",
      "Traceback (most recent call last):\n",
      "  File \"functional_tests.py\", line 44, in test_can_start_a_list_and_retrieve_it_later\n",
      "    \"New to-do item did not appear in table\"\n",
      "AssertionError: False is not true : New to-do item did not appear in table\n",
      "\n",
      "----------------------------------------------------------------------\n",
      "Ran 1 test in 66.777s\n",
      "\n",
      "FAILED (failures=1)\n"
     ]
    }
   ],
   "source": [
    "!python functional_tests.py"
   ]
  },
  {
   "cell_type": "markdown",
   "metadata": {},
   "source": [
    "So adding the `csrf_token` part was enough to get past the original error.  When I tried entering the expected text manually once the site launched, though, it still doesn't write it to any table.  Harry says that's because we haven't instructed Django on how to process any POST requests yet.  He says the way to do that is to write an `action=attribute` into the template; first, though, you add a unit test to `lists/tests.py` to anticipate this, and some conditional logic into the `home_page` func in the `lists/views.py` file.  So it's kind of a(nother) rabbit hole of HTML and web dev with which I'm unfamiliar and therefore complicates greatly the gist of understanding testing.  So instead of reading up on it and going off on a huge tangent about what all of this stuff means, I'll implement it verbatim from the text, and try to stick to the idea of understanding what it means in the context of TDD: how you'd anticipate the changes to the app code and write corresponding unit & functional tests.\n",
    "\n",
    "First, we create a `test_can_save_a_POST_request` func for the unit tests file:"
   ]
  },
  {
   "cell_type": "code",
   "execution_count": 34,
   "metadata": {},
   "outputs": [
    {
     "name": "stdout",
     "output_type": "stream",
     "text": [
      "Overwriting lists/tests.py\n"
     ]
    }
   ],
   "source": [
    "%%writefile lists/tests.py\n",
    "from django.test import TestCase\n",
    "\n",
    "class HomePageTest(TestCase):\n",
    "\n",
    "    def test_home_page_returns_correct_html(self):\n",
    "        response = self.client.get('/')\n",
    "        self.assertTemplateUsed(response, 'home.html')\n",
    "\n",
    "    def test_can_save_a_POST_request(self):\n",
    "        response = self.client.post('/', data={'item_text': 'A new list item'})\n",
    "        self.assertIn('A new list item', response.content.decode())"
   ]
  },
  {
   "cell_type": "markdown",
   "metadata": {},
   "source": [
    "Then, the conditional logic for the `home_page` func in our `views` file:"
   ]
  },
  {
   "cell_type": "code",
   "execution_count": 32,
   "metadata": {},
   "outputs": [
    {
     "name": "stdout",
     "output_type": "stream",
     "text": [
      "Overwriting lists/views.py\n"
     ]
    }
   ],
   "source": [
    "%%writefile lists/views.py\n",
    "from django.shortcuts import render\n",
    "from django.http import HttpResponse\n",
    "\n",
    "def home_page(request):\n",
    "    if request.method == 'POST':\n",
    "        return HttpResponse(request.POST['item_text'])\n",
    "    return render(request, 'home.html')\n"
   ]
  },
  {
   "cell_type": "code",
   "execution_count": 35,
   "metadata": {},
   "outputs": [
    {
     "name": "stdout",
     "output_type": "stream",
     "text": [
      "Creating test database for alias 'default'...\n",
      "System check identified no issues (0 silenced).\n",
      "Destroying test database for alias 'default'...\n"
     ]
    },
    {
     "name": "stderr",
     "output_type": "stream",
     "text": [
      "..\n",
      "----------------------------------------------------------------------\n",
      "Ran 2 tests in 0.026s\n",
      "\n",
      "OK\n"
     ]
    }
   ],
   "source": [
    "# !python functional_tests.py\n",
    "!python manage.py test"
   ]
  },
  {
   "cell_type": "markdown",
   "metadata": {},
   "source": [
    "All right, but then we turn around and say that's just to get the tests to pass, and not really the way you want to implement it after all.  ~~And, at present, it's not even passing in my hands.~~  (I had missed the detail that the change was only meant to get the **unit tests** to pass, not necessarily the functional tests... we're back in accord with the text.)  So move on and check out the more authoritative way forward, as revealed later in the chapter.\n",
    "\n",
    "It involves leveraging more of the Django syntax for incorporating template text based on Python variables, which we've already seen with the whole `csrf_token` magic, earlier.  Except that if you're not using Django's magic, but instead native Python variables, apparently the syntax is to include in *double* curly braces:"
   ]
  },
  {
   "cell_type": "code",
   "execution_count": 63,
   "metadata": {},
   "outputs": [
    {
     "name": "stdout",
     "output_type": "stream",
     "text": [
      "Overwriting lists/templates/home.html\n"
     ]
    }
   ],
   "source": [
    "%%writefile lists/templates/home.html\n",
    "<html>\n",
    "    <head>\n",
    "        <title>To-Do lists</title>\n",
    "    </head>\n",
    "    <body>\n",
    "        <h1>Your To-Do list</h1>\n",
    "        <form method=\"POST\">\n",
    "            <input name=\"item_text\" id=\"id_new_item\" placeholder=\"Enter a to-do item\" />\n",
    "            {% csrf_token %}\n",
    "        </form>\n",
    "        <table id=\"id_list_table\">\n",
    "            <tr><td>{{ new_item_text }}</td></tr>\n",
    "        </table>\n",
    "    </body>\n",
    "</html>\n"
   ]
  },
  {
   "cell_type": "markdown",
   "metadata": {},
   "source": [
    "With the explanation that `new_item_text` in the template is meant to distinguish it from the `item_text` specified in the `views.py` file in order to force us to realize that the one does not become the other automatically, but only via the action of interpreting the template via a view.\n",
    "\n",
    "Then we modify the unit tests file again:"
   ]
  },
  {
   "cell_type": "code",
   "execution_count": 40,
   "metadata": {},
   "outputs": [
    {
     "name": "stdout",
     "output_type": "stream",
     "text": [
      "Overwriting lists/tests.py\n"
     ]
    }
   ],
   "source": [
    "%%writefile lists/tests.py\n",
    "from django.test import TestCase\n",
    "\n",
    "class HomePageTest(TestCase):\n",
    "\n",
    "    def test_home_page_returns_correct_html(self):\n",
    "        response = self.client.get('/')\n",
    "        self.assertTemplateUsed(response, 'home.html')\n",
    "\n",
    "    def test_can_save_a_POST_request(self):\n",
    "        response = self.client.post('/', data={'item_text': 'A new list item'})\n",
    "        self.assertIn('A new list item', response.content.decode())\n",
    "        self.assertTemplateUsed(response, 'home.html')\n"
   ]
  },
  {
   "cell_type": "code",
   "execution_count": 41,
   "metadata": {},
   "outputs": [
    {
     "name": "stdout",
     "output_type": "stream",
     "text": [
      "Creating test database for alias 'default'...\n",
      "System check identified no issues (0 silenced).\n",
      "Destroying test database for alias 'default'...\n"
     ]
    },
    {
     "name": "stderr",
     "output_type": "stream",
     "text": [
      "F.\n",
      "======================================================================\n",
      "FAIL: test_can_save_a_POST_request (lists.tests.HomePageTest)\n",
      "----------------------------------------------------------------------\n",
      "Traceback (most recent call last):\n",
      "  File \"c:\\Data\\projects\\test_driven_development\\lists\\tests.py\", line 12, in test_can_save_a_POST_request\n",
      "    self.assertTemplateUsed(response, 'home.html')\n",
      "  File \"C:\\Users\\DCM0303\\Miniconda3\\envs\\test_dev_book\\lib\\site-packages\\django\\test\\testcases.py\", line 578, in assertTemplateUsed\n",
      "    self.fail(msg_prefix + \"No templates used to render the response\")\n",
      "AssertionError: No templates used to render the response\n",
      "\n",
      "----------------------------------------------------------------------\n",
      "Ran 2 tests in 0.024s\n",
      "\n",
      "FAILED (failures=1)\n",
      "E\n",
      "======================================================================\n",
      "ERROR: test_can_start_a_list_and_retrieve_it_later (__main__.NewVisitorTest)\n",
      "----------------------------------------------------------------------\n",
      "Traceback (most recent call last):\n",
      "  File \"functional_tests.py\", line 40, in test_can_start_a_list_and_retrieve_it_later\n",
      "    table = self.browser.find_element_by_id('id_list_table')\n",
      "  File \"C:\\Users\\DCM0303\\Miniconda3\\envs\\test_dev_book\\lib\\site-packages\\selenium\\webdriver\\remote\\webdriver.py\", line 360, in find_element_by_id\n",
      "    return self.find_element(by=By.ID, value=id_)\n",
      "  File \"C:\\Users\\DCM0303\\Miniconda3\\envs\\test_dev_book\\lib\\site-packages\\selenium\\webdriver\\remote\\webdriver.py\", line 978, in find_element\n",
      "    'value': value})['value']\n",
      "  File \"C:\\Users\\DCM0303\\Miniconda3\\envs\\test_dev_book\\lib\\site-packages\\selenium\\webdriver\\remote\\webdriver.py\", line 321, in execute\n",
      "    self.error_handler.check_response(response)\n",
      "  File \"C:\\Users\\DCM0303\\Miniconda3\\envs\\test_dev_book\\lib\\site-packages\\selenium\\webdriver\\remote\\errorhandler.py\", line 242, in check_response\n",
      "    raise exception_class(message, screen, stacktrace)\n",
      "selenium.common.exceptions.WebDriverException: Message: Failed to decode response from marionette\n",
      "\n",
      "\n",
      "----------------------------------------------------------------------\n",
      "Ran 1 test in 66.082s\n",
      "\n",
      "FAILED (errors=1)\n"
     ]
    }
   ],
   "source": [
    "# !python functional_tests.py\n",
    "!python manage.py test"
   ]
  },
  {
   "cell_type": "markdown",
   "metadata": {},
   "source": [
    "Ok, unsure about the second error, but the text anticipates the first one, as the unit test no longer passing due to our original, overly-simplistic code written into the views file.  So we update that, and Harry says that the `django.shortcuts.render` func accepts an optional *third* arg, which should be a dict mapping the template names to specific values."
   ]
  },
  {
   "cell_type": "code",
   "execution_count": 43,
   "metadata": {},
   "outputs": [
    {
     "name": "stdout",
     "output_type": "stream",
     "text": [
      "Overwriting lists/views.py\n"
     ]
    }
   ],
   "source": [
    "%%writefile lists/views.py\n",
    "from django.shortcuts import render\n",
    "from django.http import HttpResponse\n",
    "\n",
    "def home_page(request):\n",
    "    return render(request, 'home.html', {\n",
    "        'new_item_text': request.POST['item_text']\n",
    "    })\n"
   ]
  },
  {
   "cell_type": "code",
   "execution_count": 44,
   "metadata": {},
   "outputs": [
    {
     "name": "stdout",
     "output_type": "stream",
     "text": [
      "Creating test database for alias 'default'...\n",
      "System check identified no issues (0 silenced).\n",
      "Destroying test database for alias 'default'...\n"
     ]
    },
    {
     "name": "stderr",
     "output_type": "stream",
     "text": [
      "FE\n",
      "======================================================================\n",
      "ERROR: test_home_page_returns_correct_html (lists.tests.HomePageTest)\n",
      "----------------------------------------------------------------------\n",
      "Traceback (most recent call last):\n",
      "  File \"C:\\Users\\DCM0303\\Miniconda3\\envs\\test_dev_book\\lib\\site-packages\\django\\utils\\datastructures.py\", line 83, in __getitem__\n",
      "    list_ = super(MultiValueDict, self).__getitem__(key)\n",
      "KeyError: 'item_text'\n",
      "\n",
      "During handling of the above exception, another exception occurred:\n",
      "\n",
      "Traceback (most recent call last):\n",
      "  File \"c:\\Data\\projects\\test_driven_development\\lists\\tests.py\", line 6, in test_home_page_returns_correct_html\n",
      "    response = self.client.get('/')\n",
      "  File \"C:\\Users\\DCM0303\\Miniconda3\\envs\\test_dev_book\\lib\\site-packages\\django\\test\\client.py\", line 536, in get\n",
      "    **extra)\n",
      "  File \"C:\\Users\\DCM0303\\Miniconda3\\envs\\test_dev_book\\lib\\site-packages\\django\\test\\client.py\", line 340, in get\n",
      "    return self.generic('GET', path, secure=secure, **r)\n",
      "  File \"C:\\Users\\DCM0303\\Miniconda3\\envs\\test_dev_book\\lib\\site-packages\\django\\test\\client.py\", line 416, in generic\n",
      "    return self.request(**r)\n",
      "  File \"C:\\Users\\DCM0303\\Miniconda3\\envs\\test_dev_book\\lib\\site-packages\\django\\test\\client.py\", line 501, in request\n",
      "    six.reraise(*exc_info)\n",
      "  File \"C:\\Users\\DCM0303\\Miniconda3\\envs\\test_dev_book\\lib\\site-packages\\django\\utils\\six.py\", line 686, in reraise\n",
      "    raise value\n",
      "  File \"C:\\Users\\DCM0303\\Miniconda3\\envs\\test_dev_book\\lib\\site-packages\\django\\core\\handlers\\exception.py\", line 41, in inner\n",
      "    response = get_response(request)\n",
      "  File \"C:\\Users\\DCM0303\\Miniconda3\\envs\\test_dev_book\\lib\\site-packages\\django\\core\\handlers\\base.py\", line 187, in _get_response\n",
      "    response = self.process_exception_by_middleware(e, request)\n",
      "  File \"C:\\Users\\DCM0303\\Miniconda3\\envs\\test_dev_book\\lib\\site-packages\\django\\core\\handlers\\base.py\", line 185, in _get_response\n",
      "    response = wrapped_callback(request, *callback_args, **callback_kwargs)\n",
      "  File \"c:\\Data\\projects\\test_driven_development\\lists\\views.py\", line 8, in home_page\n",
      "    'new_item_text': request.POST['item_text']\n",
      "  File \"C:\\Users\\DCM0303\\Miniconda3\\envs\\test_dev_book\\lib\\site-packages\\django\\utils\\datastructures.py\", line 85, in __getitem__\n",
      "    raise MultiValueDictKeyError(repr(key))\n",
      "django.utils.datastructures.MultiValueDictKeyError: \"'item_text'\"\n",
      "\n",
      "======================================================================\n",
      "FAIL: test_can_save_a_POST_request (lists.tests.HomePageTest)\n",
      "----------------------------------------------------------------------\n",
      "Traceback (most recent call last):\n",
      "  File \"c:\\Data\\projects\\test_driven_development\\lists\\tests.py\", line 12, in test_can_save_a_POST_request\n",
      "    self.assertTemplateUsed(response, 'home.html')\n",
      "  File \"C:\\Users\\DCM0303\\Miniconda3\\envs\\test_dev_book\\lib\\site-packages\\django\\test\\testcases.py\", line 578, in assertTemplateUsed\n",
      "    self.fail(msg_prefix + \"No templates used to render the response\")\n",
      "AssertionError: No templates used to render the response\n",
      "\n",
      "----------------------------------------------------------------------\n",
      "Ran 2 tests in 0.044s\n",
      "\n",
      "FAILED (failures=1, errors=1)\n"
     ]
    }
   ],
   "source": [
    "!python manage.py test"
   ]
  },
  {
   "cell_type": "markdown",
   "metadata": {},
   "source": [
    "# Unexpected Failure\n",
    "\n",
    "Ok, so now we're confronted with an error that the author intended as an unexpected one (again, since I don't know a damn thing about Django/HTML, they're *all* unexpected to me); the code doesn't know what to do now when it *doesn't* receive a POST request.  His point is that if you don't write tests (or only write ones to catch the things you *expect* to be frequent failure cases), you may not anticipate the weird stuff that can happen due to your lack of imagination.\n",
    "\n",
    "The fix is pretty simple; modify the third arg we just passed to `render` in the views file.  Specifically, instead of direct bracket-based indexing of our Python dict, use the `get` method, which in turn accepts a second arg as what to return should the key not be present in your dict (we want that default value to be an empty string, here):"
   ]
  },
  {
   "cell_type": "code",
   "execution_count": 55,
   "metadata": {},
   "outputs": [
    {
     "name": "stdout",
     "output_type": "stream",
     "text": [
      "Overwriting lists/views.py\n"
     ]
    }
   ],
   "source": [
    "%%writefile lists/views.py\n",
    "from django.shortcuts import render\n",
    "from django.http import HttpResponse\n",
    "\n",
    "def home_page(request):\n",
    "    return render(request, 'home.html', {\n",
    "        'new_item_text': request.POST.get('item_text', '')\n",
    "    })\n"
   ]
  },
  {
   "cell_type": "code",
   "execution_count": 56,
   "metadata": {},
   "outputs": [
    {
     "name": "stderr",
     "output_type": "stream",
     "text": [
      "F\n",
      "======================================================================\n",
      "FAIL: test_can_start_a_list_and_retrieve_it_later (__main__.NewVisitorTest)\n",
      "----------------------------------------------------------------------\n",
      "Traceback (most recent call last):\n",
      "  File \"functional_tests.py\", line 44, in test_can_start_a_list_and_retrieve_it_later\n",
      "    \"New to-do item did not appear in table\"\n",
      "AssertionError: False is not true : New to-do item did not appear in table\n",
      "\n",
      "----------------------------------------------------------------------\n",
      "Ran 1 test in 66.687s\n",
      "\n",
      "FAILED (failures=1)\n"
     ]
    }
   ],
   "source": [
    "!python functional_tests.py"
   ]
  },
  {
   "cell_type": "markdown",
   "metadata": {},
   "source": [
    "Also in accord with the text up to this point.  The author suggests further modifying the error statement encountered to be even more informative (by printing the content of the variable that it's checking):"
   ]
  },
  {
   "cell_type": "code",
   "execution_count": 61,
   "metadata": {},
   "outputs": [
    {
     "name": "stdout",
     "output_type": "stream",
     "text": [
      "Overwriting functional_tests.py\n"
     ]
    }
   ],
   "source": [
    "%%writefile functional_tests.py\n",
    "from selenium import webdriver\n",
    "from selenium.webdriver.common.keys import Keys\n",
    "import time\n",
    "import unittest\n",
    "\n",
    "class NewVisitorTest(unittest.TestCase):\n",
    "\n",
    "    def setUp(self):\n",
    "        self.browser = webdriver.Firefox()\n",
    "\n",
    "    def tearDown(self):\n",
    "        self.browser.quit()\n",
    "\n",
    "    def test_can_start_a_list_and_retrieve_it_later(self):\n",
    "        # Edith has heard about a cool new online to-do app.  She goes\n",
    "        # to check out its homepage\n",
    "        self.browser.get('http://localhost:8000')\n",
    "\n",
    "        # She notices the page title and header mention to-do lists\n",
    "        self.assertIn('To-Do', self.browser.title)\n",
    "        header_text = self.browser.find_element_by_tag_name('h1').text\n",
    "        self.assertIn('To-Do', header_text)\n",
    "\n",
    "        # She is invited to enter a to-do item straight away\n",
    "        inputbox = self.browser.find_element_by_id('id_new_item')\n",
    "        self.assertEqual(\n",
    "            inputbox.get_attribute('placeholder'),\n",
    "            'Enter a to-do item'\n",
    "        )\n",
    "\n",
    "        # She types \"Buy peacock feathers\" into a text box \n",
    "        # (Edith's hobby is tying fly-fishing lures)\n",
    "        inputbox.send_keys('Buy peacock feathers')\n",
    "\n",
    "        # When she hits enter, the page updates, and now the page lists\n",
    "        # \"1: Buy peacock feathers\" as an item in a to-do list table\n",
    "        inputbox.send_keys(Keys.ENTER)\n",
    "        time.sleep(30)\n",
    "\n",
    "        table = self.browser.find_element_by_id('id_list_table')\n",
    "        rows = table.find_elements_by_tag_name('tr')\n",
    "        self.assertIn('1: Buy peacock feathers', [row.text for row in rows])\n",
    "        # self.assertTrue(\n",
    "        #     any(row.text == '1: Buy peacock feathers' for row in rows),\n",
    "        #     f\"New to-do item did not appear in table.  Contents were:\\n{table.text}\"\n",
    "        # )\n",
    "\n",
    "        # There is still a text box inviting her to add another item.\n",
    "        # Shee enters \"Use peacock feathers to make a fly\"\n",
    "        # (Edith is very methodical)\n",
    "        self.fail('Finish the test!')\n",
    "\n",
    "        # The page updates again, and now shows both items on her list\n",
    "        # ...\n",
    "\n",
    "if __name__ == '__main__':\n",
    "    unittest.main(warnings='ignore')\n"
   ]
  },
  {
   "cell_type": "code",
   "execution_count": 64,
   "metadata": {},
   "outputs": [
    {
     "name": "stderr",
     "output_type": "stream",
     "text": [
      "F\n",
      "======================================================================\n",
      "FAIL: test_can_start_a_list_and_retrieve_it_later (__main__.NewVisitorTest)\n",
      "----------------------------------------------------------------------\n",
      "Traceback (most recent call last):\n",
      "  File \"functional_tests.py\", line 42, in test_can_start_a_list_and_retrieve_it_later\n",
      "    self.assertIn('1: Buy peacock feathers', [row.text for row in rows])\n",
      "AssertionError: '1: Buy peacock feathers' not found in ['1. Buy peacock feathers']\n",
      "\n",
      "----------------------------------------------------------------------\n",
      "Ran 1 test in 36.857s\n",
      "\n",
      "FAILED (failures=1)\n"
     ]
    }
   ],
   "source": [
    "!python functional_tests.py"
   ]
  },
  {
   "cell_type": "markdown",
   "metadata": {},
   "source": [
    "Ok, one issue that I encountered was that I hadn't copied the `input` tag over from the text correctly; it needed to be\n",
    "\n",
    "            <input name=\"item_text\" id=\"id_new_item\" placeholder=\"Enter a to-do item\" />\n",
    "\n",
    "When I added the `<form method=\"POST\">` earlier in the chapter, I had failed to add that `name=\"item_text\"` attribute to the `input` tag within it.\n",
    "\n",
    "Anyways, the author tried modifying the `test_can_start_a_list_and_retrieve_it_later` functional test at first by forcing his error statement to dump the contents of whatever the user had input, but then adds a note that someone else pointed out that an `assertIn` call there would be simpler than `assertTrue`.  And that using `assertIn` forces the error statement to include the variable you're inspecting whenever it fails, simplifying the test.  His overall point is that whenever you think you've found some clever solution for something, you're probably in fact just making the code overly complicated, and should search your docs/API/library for another method or entry point that's more directly relevant for the thing you're trying to do.\n",
    "\n",
    "And then, the final lesson from this section is just that the test now fails for trivial reasons: the thing you're trying to ensure a user enters doesn't *exactly* match the string that the user may choose to input at a given time.  No general advice about avoiding this, though; seems dumb to hard-code a test that's quite so picky about formatting of the input string.  Maybe a regex would be more appropriate?"
   ]
  },
  {
   "cell_type": "code",
   "execution_count": null,
   "metadata": {},
   "outputs": [],
   "source": []
  },
  {
   "cell_type": "markdown",
   "metadata": {},
   "source": []
  },
  {
   "cell_type": "markdown",
   "metadata": {},
   "source": []
  },
  {
   "cell_type": "markdown",
   "metadata": {},
   "source": []
  },
  {
   "cell_type": "markdown",
   "metadata": {},
   "source": []
  },
  {
   "cell_type": "markdown",
   "metadata": {},
   "source": []
  },
  {
   "cell_type": "markdown",
   "metadata": {},
   "source": []
  },
  {
   "cell_type": "markdown",
   "metadata": {},
   "source": []
  },
  {
   "cell_type": "markdown",
   "metadata": {},
   "source": []
  },
  {
   "cell_type": "markdown",
   "metadata": {},
   "source": []
  },
  {
   "cell_type": "markdown",
   "metadata": {},
   "source": []
  },
  {
   "cell_type": "markdown",
   "metadata": {},
   "source": []
  },
  {
   "cell_type": "markdown",
   "metadata": {},
   "source": []
  },
  {
   "cell_type": "markdown",
   "metadata": {},
   "source": []
  },
  {
   "cell_type": "markdown",
   "metadata": {},
   "source": []
  },
  {
   "cell_type": "markdown",
   "metadata": {},
   "source": []
  },
  {
   "cell_type": "markdown",
   "metadata": {},
   "source": []
  },
  {
   "cell_type": "markdown",
   "metadata": {},
   "source": []
  },
  {
   "cell_type": "markdown",
   "metadata": {},
   "source": []
  },
  {
   "cell_type": "markdown",
   "metadata": {},
   "source": []
  },
  {
   "cell_type": "markdown",
   "metadata": {},
   "source": []
  }
 ],
 "metadata": {
  "interpreter": {
   "hash": "132b65336a829e6530b03c2ac43b744d0aab8a1a430c616a24f2cd56f79cc52e"
  },
  "kernelspec": {
   "display_name": "Python 3.6.15 64-bit ('test_dev_book': conda)",
   "language": "python",
   "name": "python3"
  },
  "language_info": {
   "codemirror_mode": {
    "name": "ipython",
    "version": 3
   },
   "file_extension": ".py",
   "mimetype": "text/x-python",
   "name": "python",
   "nbconvert_exporter": "python",
   "pygments_lexer": "ipython3",
   "version": "3.6.15"
  },
  "orig_nbformat": 4
 },
 "nbformat": 4,
 "nbformat_minor": 2
}
