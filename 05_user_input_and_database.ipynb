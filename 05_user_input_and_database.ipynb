{
 "cells": [
  {
   "cell_type": "markdown",
   "metadata": {},
   "source": [
    "Ok, so at the end of the last chapter, we found that the functional test's attempt to write to the table in our HTML to-do list was not saving the input.  Harry says that you need more than just Selenium to do that; you need to specify how to get the input into a database backing up the page.  You could use HTML5 or JavaScript, but we start with a simple HTML POST request.\n",
    "\n",
    "The way this is done is actually to write it into our `home.html` template file, with an `input` possessing a `name` attribute, and wrapping that in a `<form method=\"POST\">` tag.  Furthermore, this tag goes around your previously-entered `input` item with the `placeholder` attribute saying `\"Enter a to-do item\"`:"
   ]
  },
  {
   "cell_type": "code",
   "execution_count": 2,
   "metadata": {},
   "outputs": [
    {
     "name": "stdout",
     "output_type": "stream",
     "text": [
      "Overwriting lists/templates/home.html\n"
     ]
    }
   ],
   "source": [
    "%%writefile lists/templates/home.html\n",
    "<html>\n",
    "    <head>\n",
    "        <title>To-Do lists</title>\n",
    "    </head>\n",
    "    <body>\n",
    "        <h1>Your To-Do list</h1>\n",
    "        <form method=\"POST\">\n",
    "            <input id=\"id_new_item\" placeholder=\"Enter a to-do item\" />\n",
    "        </form>\n",
    "        <table id=\"id_list_table\">\n",
    "        </table>\n",
    "    </body>\n",
    "</html>\n"
   ]
  },
  {
   "cell_type": "code",
   "execution_count": 4,
   "metadata": {},
   "outputs": [],
   "source": [
    "# !python functional_tests.py"
   ]
  },
  {
   "cell_type": "markdown",
   "metadata": {},
   "source": [
    "Yields\n",
    "\n",
    "`selenium.common.exceptions.NoSuchElementException: Message: Unable to locate element: [id=\"id_list_table\"]`\n",
    "\n",
    "as anticipated by the text.\n",
    "\n",
    "He suggests that, when confronted with an error that's hard to interpret, like this one, there are a few common steps to consider trying:\n",
    "\n",
    "* Add `print` statements to get more info about the state (or, presumably, execute with debugging turned on in VS Code or other IDE)\n",
    "* Try to write more context into your Error statements, to reflect the current state of the interpreter\n",
    "* Try firing up your app server and just check the page yourself (i.e., not within a functional test)\n",
    "* Use `time.sleep` to slow down the execution, giving you more time to visualize what's going on with the site\n",
    "\n",
    "We actually already have the `time.sleep` option implemented in the functional test, so he suggests just extending it from 1 second as a quick sanity check."
   ]
  },
  {
   "cell_type": "code",
   "execution_count": 6,
   "metadata": {},
   "outputs": [
    {
     "name": "stdout",
     "output_type": "stream",
     "text": [
      "Overwriting functional_tests.py\n"
     ]
    }
   ],
   "source": [
    "%%writefile functional_tests.py\n",
    "from selenium import webdriver\n",
    "from selenium.webdriver.common.keys import Keys\n",
    "import time\n",
    "import unittest\n",
    "\n",
    "class NewVisitorTest(unittest.TestCase):\n",
    "\n",
    "    def setUp(self):\n",
    "        self.browser = webdriver.Firefox()\n",
    "\n",
    "    def tearDown(self):\n",
    "        self.browser.quit()\n",
    "\n",
    "    def test_can_start_a_list_and_retrieve_it_later(self):\n",
    "        # Edith has heard about a cool new online to-do app.  She goes\n",
    "        # to check out its homepage\n",
    "        self.browser.get('http://localhost:8000')\n",
    "\n",
    "        # She notices the page title and header mention to-do lists\n",
    "        self.assertIn('To-Do', self.browser.title)\n",
    "        header_text = self.browser.find_element_by_tag_name('h1').text\n",
    "        self.assertIn('To-Do', header_text)\n",
    "\n",
    "        # She is invited to enter a to-do item straight away\n",
    "        inputbox = self.browser.find_element_by_id('id_new_item')\n",
    "        self.assertEqual(\n",
    "            inputbox.get_attribute('placeholder'),\n",
    "            'Enter a to-do item'\n",
    "        )\n",
    "\n",
    "        # She types \"Buy peacock feathers\" into a text box \n",
    "        # (Edith's hobby is tying fly-fishing lures)\n",
    "        inputbox.send_keys('Buy peacock feathers')\n",
    "\n",
    "        # When she hits enter, the page updates, and now the page lists\n",
    "        # \"1: Buy peacock feathers\" as an item in a to-do list table\n",
    "        inputbox.send_keys(Keys.ENTER)\n",
    "        time.sleep(60)\n",
    "\n",
    "        table = self.browser.find_element_by_id('id_list_table')\n",
    "        rows = table.find_elements_by_tag_name('tr')\n",
    "        self.assertTrue(\n",
    "            any(row.text == '1: Buy peacock feathers' for row in rows),\n",
    "            \"New to-do item did not appear in table\"\n",
    "        )\n",
    "\n",
    "        # There is still a text box inviting her to add another item.\n",
    "        # Shee enters \"Use peacock feathers to make a fly\"\n",
    "        # (Edith is very methodical)\n",
    "        self.fail('Finish the test!')\n",
    "\n",
    "        # The page updates again, and now shows both items on her list\n",
    "        # ...\n",
    "\n",
    "if __name__ == '__main__':\n",
    "    unittest.main(warnings='ignore')\n"
   ]
  },
  {
   "cell_type": "code",
   "execution_count": 8,
   "metadata": {},
   "outputs": [
    {
     "name": "stderr",
     "output_type": "stream",
     "text": [
      "E\n",
      "======================================================================\n",
      "ERROR: test_can_start_a_list_and_retrieve_it_later (__main__.NewVisitorTest)\n",
      "----------------------------------------------------------------------\n",
      "Traceback (most recent call last):\n",
      "  File \"functional_tests.py\", line 40, in test_can_start_a_list_and_retrieve_it_later\n",
      "    table = self.browser.find_element_by_id('id_list_table')\n",
      "  File \"C:\\Users\\DCM0303\\Miniconda3\\envs\\test_dev_book\\lib\\site-packages\\selenium\\webdriver\\remote\\webdriver.py\", line 360, in find_element_by_id\n",
      "    return self.find_element(by=By.ID, value=id_)\n",
      "  File \"C:\\Users\\DCM0303\\Miniconda3\\envs\\test_dev_book\\lib\\site-packages\\selenium\\webdriver\\remote\\webdriver.py\", line 978, in find_element\n",
      "    'value': value})['value']\n",
      "  File \"C:\\Users\\DCM0303\\Miniconda3\\envs\\test_dev_book\\lib\\site-packages\\selenium\\webdriver\\remote\\webdriver.py\", line 321, in execute\n",
      "    self.error_handler.check_response(response)\n",
      "  File \"C:\\Users\\DCM0303\\Miniconda3\\envs\\test_dev_book\\lib\\site-packages\\selenium\\webdriver\\remote\\errorhandler.py\", line 242, in check_response\n",
      "    raise exception_class(message, screen, stacktrace)\n",
      "selenium.common.exceptions.NoSuchElementException: Message: Unable to locate element: [id=\"id_list_table\"]\n",
      "\n",
      "\n",
      "----------------------------------------------------------------------\n",
      "Ran 1 test in 66.711s\n",
      "\n",
      "FAILED (errors=1)\n"
     ]
    }
   ],
   "source": [
    "!python functional_tests.py"
   ]
  },
  {
   "cell_type": "markdown",
   "metadata": {},
   "source": [
    "Ok, doing that lets you see the page before the test checks and closes the browser.  Major text output is:\n",
    "\n",
    "<blockquote><p>CSRF verification failed. Request aborted.</p><p>You are seeing this message because this site requires a CSRF cookie when submitting forms. This cookie is required for security reasons, to ensure that your browser is not being hijacked by third parties.</p><p>If you have configured your browser to disable cookies, please re-enable them, at least for this site, or for 'same-origin' requests.</p></blockquote>\n",
    "\n",
    "That's a *bit* more context: something about cookies.  The text at this point has a box indicating that CSRF stands for \"*Cross-Site Request Forgery*\", a form of exploit.  There's no real way to anticipate what the heck it's about and how to deal with it without a deep dive into the web, but it turns out that there's a specific way that [Django handles CSRF](https://docs.djangoproject.com/en/4.0/ref/csrf/) that involves just inserting the template magic\n",
    "\n",
    "`{% csrf_token %}`\n",
    "\n",
    "into the POST request form, right after your `input` tag:"
   ]
  },
  {
   "cell_type": "code",
   "execution_count": 12,
   "metadata": {},
   "outputs": [
    {
     "name": "stdout",
     "output_type": "stream",
     "text": [
      "Overwriting lists/templates/home.html\n"
     ]
    }
   ],
   "source": [
    "%%writefile lists/templates/home.html\n",
    "<html>\n",
    "    <head>\n",
    "        <title>To-Do lists</title>\n",
    "    </head>\n",
    "    <body>\n",
    "        <h1>Your To-Do list</h1>\n",
    "        <form method=\"POST\">\n",
    "            <input id=\"id_new_item\" placeholder=\"Enter a to-do item\" />\n",
    "            {% csrf_token %}\n",
    "        </form>\n",
    "        <table id=\"id_list_table\">\n",
    "        </table>\n",
    "    </body>\n",
    "</html>\n"
   ]
  },
  {
   "cell_type": "code",
   "execution_count": 13,
   "metadata": {},
   "outputs": [
    {
     "name": "stderr",
     "output_type": "stream",
     "text": [
      "F\n",
      "======================================================================\n",
      "FAIL: test_can_start_a_list_and_retrieve_it_later (__main__.NewVisitorTest)\n",
      "----------------------------------------------------------------------\n",
      "Traceback (most recent call last):\n",
      "  File \"functional_tests.py\", line 44, in test_can_start_a_list_and_retrieve_it_later\n",
      "    \"New to-do item did not appear in table\"\n",
      "AssertionError: False is not true : New to-do item did not appear in table\n",
      "\n",
      "----------------------------------------------------------------------\n",
      "Ran 1 test in 66.777s\n",
      "\n",
      "FAILED (failures=1)\n"
     ]
    }
   ],
   "source": [
    "!python functional_tests.py"
   ]
  },
  {
   "cell_type": "markdown",
   "metadata": {},
   "source": [
    "So adding the `csrf_token` part was enough to get past the original error.  When I tried entering the expected text manually once the site launched, though, it still doesn't write it to any table.  Harry says that's because we haven't instructed Django on how to process any POST requests yet.  He says the way to do that is to write an `action=attribute` into the template; first, though, you add a unit test to `lists/tests.py` to anticipate this, and some conditional logic into the `home_page` func in the `lists/views.py` file.  So it's kind of a(nother) rabbit hole of HTML and web dev with which I'm unfamiliar and therefore complicates greatly the gist of understanding testing.  So instead of reading up on it and going off on a huge tangent about what all of this stuff means, I'll implement it verbatim from the text, and try to stick to the idea of understanding what it means in the context of TDD: how you'd anticipate the changes to the app code and write corresponding unit & functional tests.\n",
    "\n",
    "First, we create a `test_can_save_a_POST_request` func for the unit tests file:"
   ]
  },
  {
   "cell_type": "code",
   "execution_count": 34,
   "metadata": {},
   "outputs": [
    {
     "name": "stdout",
     "output_type": "stream",
     "text": [
      "Overwriting lists/tests.py\n"
     ]
    }
   ],
   "source": [
    "%%writefile lists/tests.py\n",
    "from django.test import TestCase\n",
    "\n",
    "class HomePageTest(TestCase):\n",
    "\n",
    "    def test_home_page_returns_correct_html(self):\n",
    "        response = self.client.get('/')\n",
    "        self.assertTemplateUsed(response, 'home.html')\n",
    "\n",
    "    def test_can_save_a_POST_request(self):\n",
    "        response = self.client.post('/', data={'item_text': 'A new list item'})\n",
    "        self.assertIn('A new list item', response.content.decode())"
   ]
  },
  {
   "cell_type": "markdown",
   "metadata": {},
   "source": [
    "Then, the conditional logic for the `home_page` func in our `views` file:"
   ]
  },
  {
   "cell_type": "code",
   "execution_count": 32,
   "metadata": {},
   "outputs": [
    {
     "name": "stdout",
     "output_type": "stream",
     "text": [
      "Overwriting lists/views.py\n"
     ]
    }
   ],
   "source": [
    "%%writefile lists/views.py\n",
    "from django.shortcuts import render\n",
    "from django.http import HttpResponse\n",
    "\n",
    "def home_page(request):\n",
    "    if request.method == 'POST':\n",
    "        return HttpResponse(request.POST['item_text'])\n",
    "    return render(request, 'home.html')\n"
   ]
  },
  {
   "cell_type": "code",
   "execution_count": 35,
   "metadata": {},
   "outputs": [
    {
     "name": "stdout",
     "output_type": "stream",
     "text": [
      "Creating test database for alias 'default'...\n",
      "System check identified no issues (0 silenced).\n",
      "Destroying test database for alias 'default'...\n"
     ]
    },
    {
     "name": "stderr",
     "output_type": "stream",
     "text": [
      "..\n",
      "----------------------------------------------------------------------\n",
      "Ran 2 tests in 0.026s\n",
      "\n",
      "OK\n"
     ]
    }
   ],
   "source": [
    "# !python functional_tests.py\n",
    "!python manage.py test"
   ]
  },
  {
   "cell_type": "markdown",
   "metadata": {},
   "source": [
    "All right, but then we turn around and say that's just to get the tests to pass, and not really the way you want to implement it after all.  ~~And, at present, it's not even passing in my hands.~~  (I had missed the detail that the change was only meant to get the **unit tests** to pass, not necessarily the functional tests... we're back in accord with the text.)  So move on and check out the more authoritative way forward, as revealed later in the chapter.\n",
    "\n",
    "It involves leveraging more of the Django syntax for incorporating template text based on Python variables, which we've already seen with the whole `csrf_token` magic, earlier.  Except that if you're not using Django's magic, but instead native Python variables, apparently the syntax is to include in *double* curly braces:"
   ]
  },
  {
   "cell_type": "code",
   "execution_count": 63,
   "metadata": {},
   "outputs": [
    {
     "name": "stdout",
     "output_type": "stream",
     "text": [
      "Overwriting lists/templates/home.html\n"
     ]
    }
   ],
   "source": [
    "%%writefile lists/templates/home.html\n",
    "<html>\n",
    "    <head>\n",
    "        <title>To-Do lists</title>\n",
    "    </head>\n",
    "    <body>\n",
    "        <h1>Your To-Do list</h1>\n",
    "        <form method=\"POST\">\n",
    "            <input name=\"item_text\" id=\"id_new_item\" placeholder=\"Enter a to-do item\" />\n",
    "            {% csrf_token %}\n",
    "        </form>\n",
    "        <table id=\"id_list_table\">\n",
    "            <tr><td>{{ new_item_text }}</td></tr>\n",
    "        </table>\n",
    "    </body>\n",
    "</html>\n"
   ]
  },
  {
   "cell_type": "markdown",
   "metadata": {},
   "source": [
    "With the explanation that `new_item_text` in the template is meant to distinguish it from the `item_text` specified in the `views.py` file in order to force us to realize that the one does not become the other automatically, but only via the action of interpreting the template via a view.\n",
    "\n",
    "Then we modify the unit tests file again:"
   ]
  },
  {
   "cell_type": "code",
   "execution_count": 40,
   "metadata": {},
   "outputs": [
    {
     "name": "stdout",
     "output_type": "stream",
     "text": [
      "Overwriting lists/tests.py\n"
     ]
    }
   ],
   "source": [
    "%%writefile lists/tests.py\n",
    "from django.test import TestCase\n",
    "\n",
    "class HomePageTest(TestCase):\n",
    "\n",
    "    def test_home_page_returns_correct_html(self):\n",
    "        response = self.client.get('/')\n",
    "        self.assertTemplateUsed(response, 'home.html')\n",
    "\n",
    "    def test_can_save_a_POST_request(self):\n",
    "        response = self.client.post('/', data={'item_text': 'A new list item'})\n",
    "        self.assertIn('A new list item', response.content.decode())\n",
    "        self.assertTemplateUsed(response, 'home.html')\n"
   ]
  },
  {
   "cell_type": "code",
   "execution_count": 41,
   "metadata": {},
   "outputs": [
    {
     "name": "stdout",
     "output_type": "stream",
     "text": [
      "Creating test database for alias 'default'...\n",
      "System check identified no issues (0 silenced).\n",
      "Destroying test database for alias 'default'...\n"
     ]
    },
    {
     "name": "stderr",
     "output_type": "stream",
     "text": [
      "F.\n",
      "======================================================================\n",
      "FAIL: test_can_save_a_POST_request (lists.tests.HomePageTest)\n",
      "----------------------------------------------------------------------\n",
      "Traceback (most recent call last):\n",
      "  File \"c:\\Data\\projects\\test_driven_development\\lists\\tests.py\", line 12, in test_can_save_a_POST_request\n",
      "    self.assertTemplateUsed(response, 'home.html')\n",
      "  File \"C:\\Users\\DCM0303\\Miniconda3\\envs\\test_dev_book\\lib\\site-packages\\django\\test\\testcases.py\", line 578, in assertTemplateUsed\n",
      "    self.fail(msg_prefix + \"No templates used to render the response\")\n",
      "AssertionError: No templates used to render the response\n",
      "\n",
      "----------------------------------------------------------------------\n",
      "Ran 2 tests in 0.024s\n",
      "\n",
      "FAILED (failures=1)\n",
      "E\n",
      "======================================================================\n",
      "ERROR: test_can_start_a_list_and_retrieve_it_later (__main__.NewVisitorTest)\n",
      "----------------------------------------------------------------------\n",
      "Traceback (most recent call last):\n",
      "  File \"functional_tests.py\", line 40, in test_can_start_a_list_and_retrieve_it_later\n",
      "    table = self.browser.find_element_by_id('id_list_table')\n",
      "  File \"C:\\Users\\DCM0303\\Miniconda3\\envs\\test_dev_book\\lib\\site-packages\\selenium\\webdriver\\remote\\webdriver.py\", line 360, in find_element_by_id\n",
      "    return self.find_element(by=By.ID, value=id_)\n",
      "  File \"C:\\Users\\DCM0303\\Miniconda3\\envs\\test_dev_book\\lib\\site-packages\\selenium\\webdriver\\remote\\webdriver.py\", line 978, in find_element\n",
      "    'value': value})['value']\n",
      "  File \"C:\\Users\\DCM0303\\Miniconda3\\envs\\test_dev_book\\lib\\site-packages\\selenium\\webdriver\\remote\\webdriver.py\", line 321, in execute\n",
      "    self.error_handler.check_response(response)\n",
      "  File \"C:\\Users\\DCM0303\\Miniconda3\\envs\\test_dev_book\\lib\\site-packages\\selenium\\webdriver\\remote\\errorhandler.py\", line 242, in check_response\n",
      "    raise exception_class(message, screen, stacktrace)\n",
      "selenium.common.exceptions.WebDriverException: Message: Failed to decode response from marionette\n",
      "\n",
      "\n",
      "----------------------------------------------------------------------\n",
      "Ran 1 test in 66.082s\n",
      "\n",
      "FAILED (errors=1)\n"
     ]
    }
   ],
   "source": [
    "# !python functional_tests.py\n",
    "!python manage.py test"
   ]
  },
  {
   "cell_type": "markdown",
   "metadata": {},
   "source": [
    "Ok, unsure about the second error, but the text anticipates the first one, as the unit test no longer passing due to our original, overly-simplistic code written into the views file.  So we update that, and Harry says that the `django.shortcuts.render` func accepts an optional *third* arg, which should be a dict mapping the template names to specific values."
   ]
  },
  {
   "cell_type": "code",
   "execution_count": 43,
   "metadata": {},
   "outputs": [
    {
     "name": "stdout",
     "output_type": "stream",
     "text": [
      "Overwriting lists/views.py\n"
     ]
    }
   ],
   "source": [
    "%%writefile lists/views.py\n",
    "from django.shortcuts import render\n",
    "from django.http import HttpResponse\n",
    "\n",
    "def home_page(request):\n",
    "    return render(request, 'home.html', {\n",
    "        'new_item_text': request.POST['item_text']\n",
    "    })\n"
   ]
  },
  {
   "cell_type": "code",
   "execution_count": 44,
   "metadata": {},
   "outputs": [
    {
     "name": "stdout",
     "output_type": "stream",
     "text": [
      "Creating test database for alias 'default'...\n",
      "System check identified no issues (0 silenced).\n",
      "Destroying test database for alias 'default'...\n"
     ]
    },
    {
     "name": "stderr",
     "output_type": "stream",
     "text": [
      "FE\n",
      "======================================================================\n",
      "ERROR: test_home_page_returns_correct_html (lists.tests.HomePageTest)\n",
      "----------------------------------------------------------------------\n",
      "Traceback (most recent call last):\n",
      "  File \"C:\\Users\\DCM0303\\Miniconda3\\envs\\test_dev_book\\lib\\site-packages\\django\\utils\\datastructures.py\", line 83, in __getitem__\n",
      "    list_ = super(MultiValueDict, self).__getitem__(key)\n",
      "KeyError: 'item_text'\n",
      "\n",
      "During handling of the above exception, another exception occurred:\n",
      "\n",
      "Traceback (most recent call last):\n",
      "  File \"c:\\Data\\projects\\test_driven_development\\lists\\tests.py\", line 6, in test_home_page_returns_correct_html\n",
      "    response = self.client.get('/')\n",
      "  File \"C:\\Users\\DCM0303\\Miniconda3\\envs\\test_dev_book\\lib\\site-packages\\django\\test\\client.py\", line 536, in get\n",
      "    **extra)\n",
      "  File \"C:\\Users\\DCM0303\\Miniconda3\\envs\\test_dev_book\\lib\\site-packages\\django\\test\\client.py\", line 340, in get\n",
      "    return self.generic('GET', path, secure=secure, **r)\n",
      "  File \"C:\\Users\\DCM0303\\Miniconda3\\envs\\test_dev_book\\lib\\site-packages\\django\\test\\client.py\", line 416, in generic\n",
      "    return self.request(**r)\n",
      "  File \"C:\\Users\\DCM0303\\Miniconda3\\envs\\test_dev_book\\lib\\site-packages\\django\\test\\client.py\", line 501, in request\n",
      "    six.reraise(*exc_info)\n",
      "  File \"C:\\Users\\DCM0303\\Miniconda3\\envs\\test_dev_book\\lib\\site-packages\\django\\utils\\six.py\", line 686, in reraise\n",
      "    raise value\n",
      "  File \"C:\\Users\\DCM0303\\Miniconda3\\envs\\test_dev_book\\lib\\site-packages\\django\\core\\handlers\\exception.py\", line 41, in inner\n",
      "    response = get_response(request)\n",
      "  File \"C:\\Users\\DCM0303\\Miniconda3\\envs\\test_dev_book\\lib\\site-packages\\django\\core\\handlers\\base.py\", line 187, in _get_response\n",
      "    response = self.process_exception_by_middleware(e, request)\n",
      "  File \"C:\\Users\\DCM0303\\Miniconda3\\envs\\test_dev_book\\lib\\site-packages\\django\\core\\handlers\\base.py\", line 185, in _get_response\n",
      "    response = wrapped_callback(request, *callback_args, **callback_kwargs)\n",
      "  File \"c:\\Data\\projects\\test_driven_development\\lists\\views.py\", line 8, in home_page\n",
      "    'new_item_text': request.POST['item_text']\n",
      "  File \"C:\\Users\\DCM0303\\Miniconda3\\envs\\test_dev_book\\lib\\site-packages\\django\\utils\\datastructures.py\", line 85, in __getitem__\n",
      "    raise MultiValueDictKeyError(repr(key))\n",
      "django.utils.datastructures.MultiValueDictKeyError: \"'item_text'\"\n",
      "\n",
      "======================================================================\n",
      "FAIL: test_can_save_a_POST_request (lists.tests.HomePageTest)\n",
      "----------------------------------------------------------------------\n",
      "Traceback (most recent call last):\n",
      "  File \"c:\\Data\\projects\\test_driven_development\\lists\\tests.py\", line 12, in test_can_save_a_POST_request\n",
      "    self.assertTemplateUsed(response, 'home.html')\n",
      "  File \"C:\\Users\\DCM0303\\Miniconda3\\envs\\test_dev_book\\lib\\site-packages\\django\\test\\testcases.py\", line 578, in assertTemplateUsed\n",
      "    self.fail(msg_prefix + \"No templates used to render the response\")\n",
      "AssertionError: No templates used to render the response\n",
      "\n",
      "----------------------------------------------------------------------\n",
      "Ran 2 tests in 0.044s\n",
      "\n",
      "FAILED (failures=1, errors=1)\n"
     ]
    }
   ],
   "source": [
    "!python manage.py test"
   ]
  },
  {
   "cell_type": "markdown",
   "metadata": {},
   "source": [
    "# Unexpected Failure\n",
    "\n",
    "Ok, so now we're confronted with an error that the author intended as an unexpected one (again, since I don't know a damn thing about Django/HTML, they're *all* unexpected to me); the code doesn't know what to do now when it *doesn't* receive a POST request.  His point is that if you don't write tests (or only write ones to catch the things you *expect* to be frequent failure cases), you may not anticipate the weird stuff that can happen due to your lack of imagination.\n",
    "\n",
    "The fix is pretty simple; modify the third arg we just passed to `render` in the views file.  Specifically, instead of direct bracket-based indexing of our Python dict, use the `get` method, which in turn accepts a second arg as what to return should the key not be present in your dict (we want that default value to be an empty string, here):"
   ]
  },
  {
   "cell_type": "code",
   "execution_count": 55,
   "metadata": {},
   "outputs": [
    {
     "name": "stdout",
     "output_type": "stream",
     "text": [
      "Overwriting lists/views.py\n"
     ]
    }
   ],
   "source": [
    "%%writefile lists/views.py\n",
    "from django.shortcuts import render\n",
    "from django.http import HttpResponse\n",
    "\n",
    "def home_page(request):\n",
    "    return render(request, 'home.html', {\n",
    "        'new_item_text': request.POST.get('item_text', '')\n",
    "    })\n"
   ]
  },
  {
   "cell_type": "code",
   "execution_count": 56,
   "metadata": {},
   "outputs": [
    {
     "name": "stderr",
     "output_type": "stream",
     "text": [
      "F\n",
      "======================================================================\n",
      "FAIL: test_can_start_a_list_and_retrieve_it_later (__main__.NewVisitorTest)\n",
      "----------------------------------------------------------------------\n",
      "Traceback (most recent call last):\n",
      "  File \"functional_tests.py\", line 44, in test_can_start_a_list_and_retrieve_it_later\n",
      "    \"New to-do item did not appear in table\"\n",
      "AssertionError: False is not true : New to-do item did not appear in table\n",
      "\n",
      "----------------------------------------------------------------------\n",
      "Ran 1 test in 66.687s\n",
      "\n",
      "FAILED (failures=1)\n"
     ]
    }
   ],
   "source": [
    "!python functional_tests.py"
   ]
  },
  {
   "cell_type": "markdown",
   "metadata": {},
   "source": [
    "Also in accord with the text up to this point.  The author suggests further modifying the error statement encountered to be even more informative (by printing the content of the variable that it's checking):"
   ]
  },
  {
   "cell_type": "code",
   "execution_count": 61,
   "metadata": {},
   "outputs": [
    {
     "name": "stdout",
     "output_type": "stream",
     "text": [
      "Overwriting functional_tests.py\n"
     ]
    }
   ],
   "source": [
    "%%writefile functional_tests.py\n",
    "from selenium import webdriver\n",
    "from selenium.webdriver.common.keys import Keys\n",
    "import time\n",
    "import unittest\n",
    "\n",
    "class NewVisitorTest(unittest.TestCase):\n",
    "\n",
    "    def setUp(self):\n",
    "        self.browser = webdriver.Firefox()\n",
    "\n",
    "    def tearDown(self):\n",
    "        self.browser.quit()\n",
    "\n",
    "    def test_can_start_a_list_and_retrieve_it_later(self):\n",
    "        # Edith has heard about a cool new online to-do app.  She goes\n",
    "        # to check out its homepage\n",
    "        self.browser.get('http://localhost:8000')\n",
    "\n",
    "        # She notices the page title and header mention to-do lists\n",
    "        self.assertIn('To-Do', self.browser.title)\n",
    "        header_text = self.browser.find_element_by_tag_name('h1').text\n",
    "        self.assertIn('To-Do', header_text)\n",
    "\n",
    "        # She is invited to enter a to-do item straight away\n",
    "        inputbox = self.browser.find_element_by_id('id_new_item')\n",
    "        self.assertEqual(\n",
    "            inputbox.get_attribute('placeholder'),\n",
    "            'Enter a to-do item'\n",
    "        )\n",
    "\n",
    "        # She types \"Buy peacock feathers\" into a text box \n",
    "        # (Edith's hobby is tying fly-fishing lures)\n",
    "        inputbox.send_keys('Buy peacock feathers')\n",
    "\n",
    "        # When she hits enter, the page updates, and now the page lists\n",
    "        # \"1: Buy peacock feathers\" as an item in a to-do list table\n",
    "        inputbox.send_keys(Keys.ENTER)\n",
    "        time.sleep(30)\n",
    "\n",
    "        table = self.browser.find_element_by_id('id_list_table')\n",
    "        rows = table.find_elements_by_tag_name('tr')\n",
    "        self.assertIn('1: Buy peacock feathers', [row.text for row in rows])\n",
    "        # self.assertTrue(\n",
    "        #     any(row.text == '1: Buy peacock feathers' for row in rows),\n",
    "        #     f\"New to-do item did not appear in table.  Contents were:\\n{table.text}\"\n",
    "        # )\n",
    "\n",
    "        # There is still a text box inviting her to add another item.\n",
    "        # Shee enters \"Use peacock feathers to make a fly\"\n",
    "        # (Edith is very methodical)\n",
    "        self.fail('Finish the test!')\n",
    "\n",
    "        # The page updates again, and now shows both items on her list\n",
    "        # ...\n",
    "\n",
    "if __name__ == '__main__':\n",
    "    unittest.main(warnings='ignore')\n"
   ]
  },
  {
   "cell_type": "code",
   "execution_count": 64,
   "metadata": {},
   "outputs": [
    {
     "name": "stderr",
     "output_type": "stream",
     "text": [
      "F\n",
      "======================================================================\n",
      "FAIL: test_can_start_a_list_and_retrieve_it_later (__main__.NewVisitorTest)\n",
      "----------------------------------------------------------------------\n",
      "Traceback (most recent call last):\n",
      "  File \"functional_tests.py\", line 42, in test_can_start_a_list_and_retrieve_it_later\n",
      "    self.assertIn('1: Buy peacock feathers', [row.text for row in rows])\n",
      "AssertionError: '1: Buy peacock feathers' not found in ['1. Buy peacock feathers']\n",
      "\n",
      "----------------------------------------------------------------------\n",
      "Ran 1 test in 36.857s\n",
      "\n",
      "FAILED (failures=1)\n"
     ]
    }
   ],
   "source": [
    "!python functional_tests.py"
   ]
  },
  {
   "cell_type": "markdown",
   "metadata": {},
   "source": [
    "Ok, one issue that I encountered was that I hadn't copied the `input` tag over from the text correctly; it needed to be\n",
    "\n",
    "            <input name=\"item_text\" id=\"id_new_item\" placeholder=\"Enter a to-do item\" />\n",
    "\n",
    "When I added the `<form method=\"POST\">` earlier in the chapter, I had failed to add that `name=\"item_text\"` attribute to the `input` tag within it.\n",
    "\n",
    "Anyways, the author tried modifying the `test_can_start_a_list_and_retrieve_it_later` functional test at first by forcing his error statement to dump the contents of whatever the user had input, but then adds a note that someone else pointed out that an `assertIn` call there would be simpler than `assertTrue`.  And that using `assertIn` forces the error statement to include the variable you're inspecting whenever it fails, simplifying the test.  His overall point is that whenever you think you've found some clever solution for something, you're probably in fact just making the code overly complicated, and should search your docs/API/library for another method or entry point that's more directly relevant for the thing you're trying to do.\n",
    "\n",
    "And then, the final lesson from this section is just that the test now fails for trivial reasons: the thing you're trying to ensure a user enters doesn't *exactly* match the string that the user may choose to input at a given time.  No general advice about avoiding this, though; seems dumb to hard-code a test that's quite so picky about formatting of the input string.  Maybe a regex would be more appropriate?\n",
    "\n",
    "There's actually a bit more here; I was missing that we had already written in the automatic entry of `\"Buy peacock feathers\"` into the functional tests file, and was doing it manually when the browser opened (I had written in a much longer `time.sleep` period when troubleshooting that whole `csrf_token` thing, and apparently that length of delay in the browser closing had prompted my brain to enter the text manually whenever it opened).  Instead, he's referring to the mismatch between what the test says the user would enter and what it's searching for in the table.  So Harry's solution is just to hard-code in the prefix item number to the template file.  But that seems kind of dumb to me, if we're ultimately going to try to accommodate the entry of more items, where you'd want that item number to increment, so hard coding seems like something we'd just undo later, so I'm skipping that modification for now.\n",
    "\n",
    "...Ah, well, maybe I'd better stick to the letter of the law here, and implement that change as indicated in the text, so as not to get divergent behavior where I subsequently forget about the discrepancy and have more headaches fixing it:"
   ]
  },
  {
   "cell_type": "code",
   "execution_count": 7,
   "metadata": {},
   "outputs": [
    {
     "name": "stdout",
     "output_type": "stream",
     "text": [
      "Overwriting lists/templates/home.html\n"
     ]
    }
   ],
   "source": [
    "%%writefile lists/templates/home.html\n",
    "<html>\n",
    "    <head>\n",
    "        <title>To-Do lists</title>\n",
    "    </head>\n",
    "    <body>\n",
    "        <h1>Your To-Do list</h1>\n",
    "        <form method=\"POST\">\n",
    "            <input name=\"item_text\" id=\"id_new_item\" placeholder=\"Enter a to-do item\" />\n",
    "            {% csrf_token %}\n",
    "        </form>\n",
    "        <table id=\"id_list_table\">\n",
    "            <tr><td>1: {{ new_item_text }}</td></tr>\n",
    "        </table>\n",
    "    </body>\n",
    "</html>\n"
   ]
  },
  {
   "cell_type": "markdown",
   "metadata": {},
   "source": [
    "# More Inputs, and Refactor\n",
    "\n",
    "At this point, Harry goes on to add more `assert` statements to the functional tests about appending to the To-Do list.  But the original approach tried gets kind of clunky, so we refactor to reduce repetition.  Specifically, he suggests pulling out the code about looking for specific text in the table to its own function, and having the func about storing and retrieving text call that for every line you expect to find in the table:"
   ]
  },
  {
   "cell_type": "code",
   "execution_count": 28,
   "metadata": {},
   "outputs": [
    {
     "name": "stdout",
     "output_type": "stream",
     "text": [
      "Overwriting functional_tests.py\n"
     ]
    }
   ],
   "source": [
    "%%writefile functional_tests.py\n",
    "from selenium import webdriver\n",
    "from selenium.webdriver.common.keys import Keys\n",
    "import time\n",
    "import unittest\n",
    "\n",
    "class NewVisitorTest(unittest.TestCase):\n",
    "\n",
    "    def setUp(self):\n",
    "        self.browser = webdriver.Firefox()\n",
    "\n",
    "    def tearDown(self):\n",
    "        self.browser.quit()\n",
    "\n",
    "    def check_for_row_in_list_table(self, row_text):\n",
    "        table = self.browser.find_element_by_id('id_list_table')\n",
    "        rows = table.find_elements_by_tag_name('tr')\n",
    "        self.assertIn(row_text, [row.text for row in rows])\n",
    "\n",
    "    def test_can_start_a_list_and_retrieve_it_later(self):\n",
    "        # Edith has heard about a cool new online to-do app.  She goes\n",
    "        # to check out its homepage\n",
    "        self.browser.get('http://localhost:8000')\n",
    "\n",
    "        # She notices the page title and header mention to-do lists\n",
    "        self.assertIn('To-Do', self.browser.title)\n",
    "        header_text = self.browser.find_element_by_tag_name('h1').text\n",
    "        self.assertIn('To-Do', header_text)\n",
    "\n",
    "        # She is invited to enter a to-do item straight away\n",
    "        inputbox = self.browser.find_element_by_id('id_new_item')\n",
    "        self.assertEqual(\n",
    "            inputbox.get_attribute('placeholder'),\n",
    "            'Enter a to-do item'\n",
    "        )\n",
    "\n",
    "        # She types \"Buy peacock feathers\" into a text box \n",
    "        # (Edith's hobby is tying fly-fishing lures)\n",
    "        inputbox.send_keys('Buy peacock feathers')\n",
    "\n",
    "        # When she hits enter, the page updates, and now the page lists\n",
    "        # \"1: Buy peacock feathers\" as an item in a to-do list table\n",
    "        inputbox.send_keys(Keys.ENTER)\n",
    "        time.sleep(1)\n",
    "        self.check_for_row_in_list_table('1: Buy peacock feathers')\n",
    "\n",
    "        # There is still a text box inviting her to add another item.\n",
    "        # She enters \"Use peacock feathers to make a fly\"\n",
    "        # (Edith is very methodical)\n",
    "        inputbox = self.browser.find_element_by_id('id_new_item')\n",
    "        inputbox.send_keys('Use peacock feathers to make a fly')\n",
    "        inputbox.send_keys(Keys.ENTER)\n",
    "        time.sleep(1)\n",
    "\n",
    "        # The page updates again, and now shows both items on her list\n",
    "        self.check_for_row_in_list_table('1: Buy peacock feathers')\n",
    "        self.check_for_row_in_list_table('2: Use peacock feathers to make a fly')\n",
    "\n",
    "        # Edith wonders whether the site will remember her list.  Then she sees\n",
    "        # ...\n",
    "\n",
    "if __name__ == '__main__':\n",
    "    unittest.main(warnings='ignore')\n"
   ]
  },
  {
   "cell_type": "code",
   "execution_count": 27,
   "metadata": {},
   "outputs": [
    {
     "name": "stderr",
     "output_type": "stream",
     "text": [
      "F\n",
      "======================================================================\n",
      "FAIL: test_can_start_a_list_and_retrieve_it_later (__main__.NewVisitorTest)\n",
      "----------------------------------------------------------------------\n",
      "Traceback (most recent call last):\n",
      "  File \"functional_tests.py\", line 55, in test_can_start_a_list_and_retrieve_it_later\n",
      "    self.check_for_row_in_list_table('1: Buy peacock feathers')\n",
      "  File \"functional_tests.py\", line 17, in check_for_row_in_list_table\n",
      "    self.assertIn(row_text, [row.text for row in rows])\n",
      "AssertionError: '1: Buy peacock feathers' not found in ['1: Use peacock feathers to make a fly']\n",
      "\n",
      "----------------------------------------------------------------------\n",
      "Ran 1 test in 13.358s\n",
      "\n",
      "FAILED (failures=1)\n"
     ]
    }
   ],
   "source": [
    "!python functional_tests.py"
   ]
  },
  {
   "cell_type": "markdown",
   "metadata": {},
   "source": [
    "Ok, I did hit an error referencing something \"stale\":\n",
    "\n",
    "~~~bash\n",
    "selenium.common.exceptions.StaleElementReferenceException: Message: The element reference of <tr> is stale; either the element is no longer attached to the DOM, it is not in the current frame context, or the document has been refreshed\n",
    "~~~\n",
    "\n",
    "On page 62 of the text, Harry says that if you see this you may need to increase the `sleep` period upstream of the error.  I'll try that now.  ...Ok, the key turned out to be not incrementing the original call on line 44 so much as adding a second call to sleep right after the *second* time that the `send_keys(Keys.ENTER)` was called.\n",
    "\n",
    "So anyways, now we're seeing the error reported in the text, which (again) is a side-effect of the silly hard-coding done to get around the earlier error: we're calling everything the first element in the list when we add it."
   ]
  },
  {
   "cell_type": "markdown",
   "metadata": {},
   "source": [
    "# The Django ORM\n",
    "\n",
    "We turn to calling out more functionality of Django that's intended to lighten the load (once you know how to use it) over writing straight HTML by hand.  In this case, that's the *Object-Relational Mapper (ORM)*.  Harry says that in this paradigm classes stand in for database tables, their attributes stand in for columns of your database tables, and each *instance* of such a class are to be thought of as the rows of your DB.\n",
    "\n",
    "I guess that makes sense.  Plenty of elements that would fit neatly in the row of a relational DB would be like individual items you might track in an inventory, samples in LIMS, etc.  I hadn't heard it explained that way before.\n",
    "\n",
    "To start to use it, of course, we begin by writing a unit test that assumes it will be used, and in this case it means a new class in our unit test file:"
   ]
  },
  {
   "cell_type": "code",
   "execution_count": 30,
   "metadata": {},
   "outputs": [
    {
     "name": "stdout",
     "output_type": "stream",
     "text": [
      "Overwriting lists/tests.py\n"
     ]
    }
   ],
   "source": [
    "%%writefile lists/tests.py\n",
    "from django.test import TestCase\n",
    "from lists.models import Item\n",
    "\n",
    "class HomePageTest(TestCase):\n",
    "\n",
    "    def test_home_page_returns_correct_html(self):\n",
    "        response = self.client.get('/')\n",
    "        self.assertTemplateUsed(response, 'home.html')\n",
    "\n",
    "    def test_can_save_a_POST_request(self):\n",
    "        response = self.client.post('/', data={'item_text': 'A new list item'})\n",
    "        self.assertIn('A new list item', response.content.decode())\n",
    "        self.assertTemplateUsed(response, 'home.html')\n",
    "\n",
    "class ItemModelTest(TestCase):\n",
    "    \n",
    "    def test_saving_and_retrieving_items(self):\n",
    "        first_item = Item()\n",
    "        first_item.text = 'The first (ever) list item'\n",
    "        first_item.save()\n",
    "\n",
    "        second_item = Item()\n",
    "        second_item.text = 'Item the second'\n",
    "        second_item.save()\n",
    "\n",
    "        saved_items = Item.objects.all()\n",
    "        self.assertEqual(saved_items.count(), 2)\n",
    "\n",
    "        first_saved_item = saved_items[0]\n",
    "        second_saved_item = saved_items[1]\n",
    "        self.assertEqual(first_saved_item.text, 'The first (ever) list item')\n",
    "        self.assertEqual(second_saved_item.text, 'Item the second')"
   ]
  },
  {
   "cell_type": "markdown",
   "metadata": {},
   "source": [
    "Ok, so major lessons from that example:\n",
    "\n",
    "1. The `lists.models` file was created by the call to `python manage.py startapp lists` way back in the third chapter\n",
    "    * Right now, that file is empty, other than an the call to:\n",
    "        * `from django.db import models`\n",
    "    * ~~So that loads all of the classes & variables present in `django.db` under that namespace, which includes `Item` (even though there's no line referencing `Item` in `lists.models` itself)~~\n",
    "    * ...Nope.  We've written it this way, but upon testing it will immediately raise an `ImportError`, so we'll subsequently modify the content of `lists.models` to subclass `models.Model` in order to make an empty `Item` class\n",
    "2. So under the ORM, that `Item` instance should be a row of a DB, even though we haven't named that DB or anything.  And I don't know whether `text` is a default attr of `Item`s, or if `Item` permits arbitrary new declaration of attr names within lines extending it...\n",
    "3. Anyways, to add rows to a DB with the ORM schema, you instantiate a new `Item`, store attrs representing the columns of the DB, and then call `save` to write it out.\n",
    "4. Once a DB is populated, you can call `objects` on the class to get specific rows; the `all` method thereof returns all rows rather than some kind of strict subset.\n",
    "    * Harry says that what's returned is a `QuerySet`, which behaves a lot like a `list`\n",
    "\n",
    "He suggests you check out the Django [tutorial](https://docs.djangoproject.com/en/1.11/contents/) to get a peek at more features, but it's not easy for me to find the section relating to the ORM, specifically.\n",
    "\n",
    "<div class=\"alert alert-info\">There's a box here clarifying terminology, saying that \"unit tests\" strictly speaking only touch your source code, and not any resources not encoded in your codebase, including any databases (presumably because their state can depend on stuff not in your code itself?).  Any tests that rely on such external resources are technically called <i>integrated tests</i> rather than unit tests, but Harry will ignore the distinction for most of this book.</div>"
   ]
  },
  {
   "cell_type": "markdown",
   "metadata": {},
   "source": [
    "## First Migration\n",
    "\n",
    "According to the author, the job of building a database is handled under an abstraction called a *migration* (or \"*migrations*\"; maybe the plural is appropriate here).  This is actually invoked from the terminal, perhaps once per project, rather than as code you have to execute every time you start up the server?\n",
    "\n",
    "~~~bash\n",
    "python manage.py makemigrations\n",
    "~~~\n",
    "\n",
    "...Well, at least every time you add a new database \"model\" to the `lists/models.py` file; the output written to `stdout` when I ran that call indicates it was peeking inside that file.\n",
    "\n",
    "~~~bash\n",
    "(test_dev_book) C:\\Data\\projects\\test_driven_development>python manage.py makemigrations\n",
    "Migrations for 'lists':\n",
    "  lists\\migrations\\0001_initial.py\n",
    "    - Create model Item\n",
    "~~~\n",
    "\n",
    "So it creates a subdir in `lists` called `migrations`, and writes data to arbitrarily-named `.py` files within it.\n",
    "\n",
    "It's implied that this should be enough to prepare us to re-test the unit tests again:"
   ]
  },
  {
   "cell_type": "code",
   "execution_count": 39,
   "metadata": {},
   "outputs": [
    {
     "name": "stdout",
     "output_type": "stream",
     "text": [
      "Creating test database for alias 'default'...\n",
      "System check identified no issues (0 silenced).\n",
      "Destroying test database for alias 'default'...\n"
     ]
    },
    {
     "name": "stderr",
     "output_type": "stream",
     "text": [
      "..E\n",
      "======================================================================\n",
      "ERROR: test_saving_and_retrieving_items (lists.tests.ItemModelTest)\n",
      "----------------------------------------------------------------------\n",
      "Traceback (most recent call last):\n",
      "  File \"c:\\Data\\projects\\test_driven_development\\lists\\tests.py\", line 31, in test_saving_and_retrieving_items\n",
      "    self.assertEqual(first_saved_item.text, 'The first (ever) list item')\n",
      "AttributeError: 'Item' object has no attribute 'text'\n",
      "\n",
      "----------------------------------------------------------------------\n",
      "Ran 3 tests in 0.055s\n",
      "\n",
      "FAILED (errors=1)\n"
     ]
    }
   ],
   "source": [
    "!python manage.py test lists"
   ]
  },
  {
   "cell_type": "markdown",
   "metadata": {},
   "source": [
    "So the `Item` class *didn't* inherit all the attrs that our test assumed; we have to add them explicitly:\n",
    "\n",
    "\"*Classes that inherit from `models.Model` map to tables in the database.  By default they get an auto-generated `id` attribute, which will be a primary key column in the database, but you have to define any other columns you want explicitly`\"..."
   ]
  },
  {
   "cell_type": "code",
   "execution_count": 41,
   "metadata": {},
   "outputs": [
    {
     "name": "stdout",
     "output_type": "stream",
     "text": [
      "Overwriting lists/models.py\n"
     ]
    }
   ],
   "source": [
    "%%writefile lists/models.py\n",
    "from django.db import models\n",
    "\n",
    "class Item(models.Model):\n",
    "    text = models.TextField()\n"
   ]
  },
  {
   "cell_type": "markdown",
   "metadata": {},
   "source": [
    "Harry says that common types that you may want to try when defining attrs/columns of your models/tables include\n",
    "\n",
    "* `IntegerField`\n",
    "* `CharField`\n",
    "* `DateField`\n",
    "\n",
    "and others.  The advantage motivating `TextField` over `CharField` here is that the former doesn't require an expected max length of characters it can contain.\n",
    "\n",
    "If you test again after editing the `models` file, you'll see a failure because you need to re-run the `makemigrations` command again for your project.  If you try that as things stand *now*, however, you get a prompt in the terminal saying that it can't create that field until you tell what you want to use as a null value for any rows that end up missing it.  You can define it in the terminal, but the more stable response is to encode that in the `models.py` file, too."
   ]
  },
  {
   "cell_type": "code",
   "execution_count": 42,
   "metadata": {},
   "outputs": [
    {
     "name": "stdout",
     "output_type": "stream",
     "text": [
      "Overwriting lists/models.py\n"
     ]
    }
   ],
   "source": [
    "%%writefile lists/models.py\n",
    "from django.db import models\n",
    "\n",
    "class Item(models.Model):\n",
    "    text = models.TextField(default='')\n"
   ]
  },
  {
   "cell_type": "markdown",
   "metadata": {},
   "source": [
    "Harry says that this will suffice to get the ORM to recognize the `text` attr on your objects as a special attribute, and let the unit tests pass:"
   ]
  },
  {
   "cell_type": "code",
   "execution_count": 43,
   "metadata": {},
   "outputs": [
    {
     "name": "stdout",
     "output_type": "stream",
     "text": [
      "Creating test database for alias 'default'...\n",
      "System check identified no issues (0 silenced).\n",
      "Destroying test database for alias 'default'...\n"
     ]
    },
    {
     "name": "stderr",
     "output_type": "stream",
     "text": [
      "...\n",
      "----------------------------------------------------------------------\n",
      "Ran 3 tests in 0.031s\n",
      "\n",
      "OK\n"
     ]
    }
   ],
   "source": [
    "!python manage.py test lists"
   ]
  },
  {
   "cell_type": "markdown",
   "metadata": {},
   "source": [
    "And we commit again.\n",
    "\n",
    "\n",
    "# Saving POST to DB\n",
    "\n",
    "Then we want to actually get the POST request to make a change in the DB.  So we adjust the unit test, adding a new func to our `ItemModelTest` class:"
   ]
  },
  {
   "cell_type": "code",
   "execution_count": 45,
   "metadata": {},
   "outputs": [
    {
     "name": "stdout",
     "output_type": "stream",
     "text": [
      "Overwriting lists/tests.py\n"
     ]
    }
   ],
   "source": [
    "%%writefile lists/tests.py\n",
    "from django.test import TestCase\n",
    "from lists.models import Item\n",
    "\n",
    "class HomePageTest(TestCase):\n",
    "\n",
    "    def test_home_page_returns_correct_html(self):\n",
    "        response = self.client.get('/')\n",
    "        self.assertTemplateUsed(response, 'home.html')\n",
    "\n",
    "    def test_can_save_a_POST_request(self):\n",
    "        response = self.client.post('/', data={'item_text': 'A new list item'})\n",
    "        self.assertIn('A new list item', response.content.decode())\n",
    "        self.assertTemplateUsed(response, 'home.html')\n",
    "\n",
    "class ItemModelTest(TestCase):\n",
    "    \n",
    "    def test_saving_and_retrieving_items(self):\n",
    "        first_item = Item()\n",
    "        first_item.text = 'The first (ever) list item'\n",
    "        first_item.save()\n",
    "\n",
    "        second_item = Item()\n",
    "        second_item.text = 'Item the second'\n",
    "        second_item.save()\n",
    "\n",
    "        saved_items = Item.objects.all()\n",
    "        self.assertEqual(saved_items.count(), 2)\n",
    "\n",
    "        first_saved_item = saved_items[0]\n",
    "        second_saved_item = saved_items[1]\n",
    "        self.assertEqual(first_saved_item.text, 'The first (ever) list item')\n",
    "        self.assertEqual(second_saved_item.text, 'Item the second')\n",
    "\n",
    "    def test_can_save_a_POST_request(self):\n",
    "        response = self.client.post('/', data={'item_text': 'A new list item'})\n",
    "\n",
    "        self.assertEqual(Item.objects.count(), 1)\n",
    "        new_item = Item.objects.first()\n",
    "        self.assertEqual(new_item.text, 'A new list item')\n",
    "\n",
    "        self.assertIn('A new list item', response.content.decode())\n",
    "        self.assertTemplateUsed(response, 'home.html')"
   ]
  },
  {
   "cell_type": "markdown",
   "metadata": {},
   "source": [
    "He explains three of the new lines:\n",
    "\n",
    "* 38 checks that you now have one row in your db\n",
    "* 39 grabs the first row and assigns it to a new variable\n",
    "* 40 checks that the content (text) of that row's `text` column is correct\n",
    "\n",
    "He also notest that this whole test is getting a bit too long; contributing to a bad code smell that may justify refactoring at some point."
   ]
  },
  {
   "cell_type": "code",
   "execution_count": 46,
   "metadata": {},
   "outputs": [
    {
     "name": "stdout",
     "output_type": "stream",
     "text": [
      "Creating test database for alias 'default'..."
     ]
    },
    {
     "name": "stderr",
     "output_type": "stream",
     "text": [
      "..F.\n",
      "======================================================================\n",
      "FAIL: test_can_save_a_POST_request (lists.tests.ItemModelTest)\n",
      "----------------------------------------------------------------------\n",
      "Traceback (most recent call last):\n",
      "  File \"c:\\Data\\projects\\test_driven_development\\lists\\tests.py\", line 37, in test_can_save_a_POST_request\n",
      "    self.assertEqual(Item.objects.count(), 1)\n",
      "AssertionError: 0 != 1\n",
      "\n",
      "----------------------------------------------------------------------\n",
      "Ran 4 tests in 0.081s\n",
      "\n",
      "FAILED (failures=1)\n"
     ]
    },
    {
     "name": "stdout",
     "output_type": "stream",
     "text": [
      "\n",
      "System check identified no issues (0 silenced).\n",
      "Destroying test database for alias 'default'...\n"
     ]
    }
   ],
   "source": [
    "!python manage.py test"
   ]
  },
  {
   "cell_type": "markdown",
   "metadata": {},
   "source": [
    "So the result of line 38 is an expected failure, since we haven't written the app code that will pass the POST request along to the db.  Harry suggests that the problem at this point is that our `views` file needs adjustment:"
   ]
  },
  {
   "cell_type": "code",
   "execution_count": 48,
   "metadata": {},
   "outputs": [
    {
     "name": "stdout",
     "output_type": "stream",
     "text": [
      "Overwriting lists/views.py\n"
     ]
    }
   ],
   "source": [
    "%%writefile lists/views.py\n",
    "from django.shortcuts import render\n",
    "from lists.models import Item\n",
    "\n",
    "def home_page(request):\n",
    "    item = Item()\n",
    "    item.text = request.POST.get('item_text', '')\n",
    "    item.save()\n",
    "\n",
    "    return render(request, 'home.html', {\n",
    "        'new_item_text': request.POST.get('item_text', '')\n",
    "    })\n"
   ]
  },
  {
   "cell_type": "code",
   "execution_count": 49,
   "metadata": {},
   "outputs": [
    {
     "name": "stdout",
     "output_type": "stream",
     "text": [
      "Creating test database for alias 'default'..."
     ]
    },
    {
     "name": "stderr",
     "output_type": "stream",
     "text": [
      "....\n",
      "----------------------------------------------------------------------\n",
      "Ran 4 tests in 0.067s\n",
      "\n",
      "OK\n"
     ]
    },
    {
     "name": "stdout",
     "output_type": "stream",
     "text": [
      "\n",
      "System check identified no issues (0 silenced).\n",
      "Destroying test database for alias 'default'...\n"
     ]
    }
   ],
   "source": [
    "!python manage.py test"
   ]
  },
  {
   "cell_type": "markdown",
   "metadata": {},
   "source": [
    "And now a successful passing of the unit test.  But he's noted multiple issues (including the bad code smell noted above):\n",
    "\n",
    "1. Line 7 of the views file above means that we save an empty string for every request made\n",
    "2. The overall unit test for the POST request is getting a bit long\n",
    "3. It currently doesn't display \"multiple items in the table\"; unclear whether that means only one row or only one column\n",
    "4. It would need more than one list\n",
    "\n",
    "He has us start with addressing the first item, and checking whether any text needs saving.  It involves creating a new func within the `HomePageTest` of the unit test, and modifications to the `views` file, too:"
   ]
  },
  {
   "cell_type": "code",
   "execution_count": 2,
   "metadata": {},
   "outputs": [
    {
     "name": "stdout",
     "output_type": "stream",
     "text": [
      "Overwriting lists/tests.py\n"
     ]
    }
   ],
   "source": [
    "%%writefile lists/tests.py\n",
    "from django.test import TestCase\n",
    "from lists.models import Item\n",
    "\n",
    "class HomePageTest(TestCase):\n",
    "\n",
    "    def test_home_page_returns_correct_html(self):\n",
    "        response = self.client.get('/')\n",
    "        self.assertTemplateUsed(response, 'home.html')\n",
    "\n",
    "    def test_can_save_a_POST_request(self):\n",
    "        response = self.client.post('/', data={'item_text': 'A new list item'})\n",
    "        self.assertIn('A new list item', response.content.decode())\n",
    "        self.assertTemplateUsed(response, 'home.html')\n",
    "\n",
    "    def test_only_saves_items_when_necessary(self):\n",
    "        self.client.get('/')\n",
    "        self.assertEqual(Item.objects.count(), 0)\n",
    "\n",
    "\n",
    "class ItemModelTest(TestCase):\n",
    "    \n",
    "    def test_saving_and_retrieving_items(self):\n",
    "        first_item = Item()\n",
    "        first_item.text = 'The first (ever) list item'\n",
    "        first_item.save()\n",
    "\n",
    "        second_item = Item()\n",
    "        second_item.text = 'Item the second'\n",
    "        second_item.save()\n",
    "\n",
    "        saved_items = Item.objects.all()\n",
    "        self.assertEqual(saved_items.count(), 2)\n",
    "\n",
    "        first_saved_item = saved_items[0]\n",
    "        second_saved_item = saved_items[1]\n",
    "        self.assertEqual(first_saved_item.text, 'The first (ever) list item')\n",
    "        self.assertEqual(second_saved_item.text, 'Item the second')\n",
    "\n",
    "    def test_can_save_a_POST_request(self):\n",
    "        response = self.client.post('/', data={'item_text': 'A new list item'})\n",
    "\n",
    "        self.assertEqual(Item.objects.count(), 1)\n",
    "        new_item = Item.objects.first()\n",
    "        self.assertEqual(new_item.text, 'A new list item')\n",
    "\n",
    "        self.assertIn('A new list item', response.content.decode())\n",
    "        self.assertTemplateUsed(response, 'home.html')\n"
   ]
  },
  {
   "cell_type": "markdown",
   "metadata": {},
   "source": [
    "Which should yield an error."
   ]
  },
  {
   "cell_type": "code",
   "execution_count": 3,
   "metadata": {},
   "outputs": [
    {
     "name": "stdout",
     "output_type": "stream",
     "text": [
      "Creating test database for alias 'default'...\n",
      "System check identified no issues (0 silenced).\n",
      "Destroying test database for alias 'default'...\n"
     ]
    },
    {
     "name": "stderr",
     "output_type": "stream",
     "text": [
      "..F..\n",
      "======================================================================\n",
      "FAIL: test_only_saves_items_when_necessary (lists.tests.HomePageTest)\n",
      "----------------------------------------------------------------------\n",
      "Traceback (most recent call last):\n",
      "  File \"c:\\Data\\projects\\test_driven_development\\lists\\tests.py\", line 17, in test_only_saves_items_when_necessary\n",
      "    self.assertEqual(Item.objects.count(), 0)\n",
      "AssertionError: 1 != 0\n",
      "\n",
      "----------------------------------------------------------------------\n",
      "Ran 5 tests in 0.048s\n",
      "\n",
      "FAILED (failures=1)\n"
     ]
    }
   ],
   "source": [
    "!python manage.py test"
   ]
  },
  {
   "cell_type": "markdown",
   "metadata": {},
   "source": [
    "Which we intend to address by modifying the views:"
   ]
  },
  {
   "cell_type": "code",
   "execution_count": 5,
   "metadata": {},
   "outputs": [
    {
     "name": "stdout",
     "output_type": "stream",
     "text": [
      "Overwriting lists/views.py\n"
     ]
    }
   ],
   "source": [
    "%%writefile lists/views.py\n",
    "from django.shortcuts import render\n",
    "from lists.models import Item\n",
    "\n",
    "def home_page(request):\n",
    "    if request.method == 'POST':\n",
    "        new_item_text = request.POST['item_text']\n",
    "        Item.objects.create(text=new_item_text)\n",
    "    else:\n",
    "        new_item_text = ''\n",
    "\n",
    "    return render(request, 'home.html', {\n",
    "        'new_item_text': new_item_text,\n",
    "    })\n"
   ]
  },
  {
   "cell_type": "markdown",
   "metadata": {},
   "source": [
    "Quick breakdown of the new lines:\n",
    "\n",
    "1. #7 - whatever is getting passed in gets stored in `new_item_text` var\n",
    "2. #8 - `objects.create` creates a new instance of `Item`, without having to call `save`\n",
    "\n",
    "I guess the crux of it is that you're checking whether your `request` even has a `POST` method associated with it, and otherwise sets the var to an empty string, which should be the same as before, *except* that there's no `save` call, so it only writes to the DB if the request wasn't empty.\n",
    "\n",
    "\n",
    "# Redirect After a POST\n",
    "\n",
    "It's still weird syntax; why even bother setting an empty string if you're not going to save it?  Harry says that a view function is in charge of *both* processing user input *and* returning a relevant result.  He says the approach above was dedicated towards the former, saving whatever users input, and we'd like to tweak the latter purpose of returning a more streamlined result.  He introduces the [injunction to redirect after POST calls](https://en.wikipedia.org/wiki/Post/Redirect/Get).  So rather than immediately re-rendering the page with the user input saved in some kind of temporary state, you write to DB, and re-load the home page, drawing on the updated DB."
   ]
  },
  {
   "cell_type": "code",
   "execution_count": 27,
   "metadata": {},
   "outputs": [
    {
     "name": "stdout",
     "output_type": "stream",
     "text": [
      "Overwriting lists/tests.py\n"
     ]
    }
   ],
   "source": [
    "%%writefile lists/tests.py\n",
    "from django.test import TestCase\n",
    "from lists.models import Item\n",
    "\n",
    "class HomePageTest(TestCase):\n",
    "\n",
    "    def test_home_page_returns_correct_html(self):\n",
    "        response = self.client.get('/')\n",
    "        self.assertTemplateUsed(response, 'home.html')\n",
    "\n",
    "    def test_can_save_a_POST_request(self):\n",
    "        response = self.client.post('/', data={'item_text': 'A new list item'})\n",
    "\n",
    "        self.assertEqual(Item.objects.count(), 1)\n",
    "        new_item = Item.objects.first()\n",
    "        self.assertEqual(new_item.text, 'A new list item')\n",
    "\n",
    "        self.assertEqual(response.status_code, 302)\n",
    "        self.assertEqual(response['location'], '/')\n",
    "\n",
    "    def test_only_saves_items_when_necessary(self):\n",
    "        self.client.get('/')\n",
    "        self.assertEqual(Item.objects.count(), 0)\n",
    "\n",
    "\n",
    "class ItemModelTest(TestCase):\n",
    "    \n",
    "    def test_saving_and_retrieving_items(self):\n",
    "        first_item = Item()\n",
    "        first_item.text = 'The first (ever) list item'\n",
    "        first_item.save()\n",
    "\n",
    "        second_item = Item()\n",
    "        second_item.text = 'Item the second'\n",
    "        second_item.save()\n",
    "\n",
    "        saved_items = Item.objects.all()\n",
    "        self.assertEqual(saved_items.count(), 2)\n",
    "\n",
    "        first_saved_item = saved_items[0]\n",
    "        second_saved_item = saved_items[1]\n",
    "        self.assertEqual(first_saved_item.text, 'The first (ever) list item')\n",
    "        self.assertEqual(second_saved_item.text, 'Item the second')"
   ]
  },
  {
   "cell_type": "markdown",
   "metadata": {},
   "source": [
    "He says that, since we're now redirecting, we don't expect the `test_can_save_a_POST_request`'s call to `return render` based on the POST request directly, but rather to... well, it's getting too complicated for me.  But he says the updated test should currently return an error about the status code of the response:"
   ]
  },
  {
   "cell_type": "code",
   "execution_count": 16,
   "metadata": {},
   "outputs": [
    {
     "name": "stdout",
     "output_type": "stream",
     "text": [
      "Creating test database for alias 'default'...\n",
      "System check identified no issues (0 silenced).\n",
      "Destroying test database for alias 'default'...\n"
     ]
    },
    {
     "name": "stderr",
     "output_type": "stream",
     "text": [
      "F....\n",
      "======================================================================\n",
      "FAIL: test_can_save_a_POST_request (lists.tests.HomePageTest)\n",
      "----------------------------------------------------------------------\n",
      "Traceback (most recent call last):\n",
      "  File \"c:\\Data\\projects\\test_driven_development\\lists\\tests.py\", line 17, in test_can_save_a_POST_request\n",
      "    self.assertEqual(response.status_code, 302)\n",
      "AssertionError: 200 != 302\n",
      "\n",
      "----------------------------------------------------------------------\n",
      "Ran 5 tests in 0.028s\n",
      "\n",
      "FAILED (failures=1)\n"
     ]
    }
   ],
   "source": [
    "!python manage.py test"
   ]
  },
  {
   "cell_type": "markdown",
   "metadata": {},
   "source": [
    "And with that expected failure, we proceed to modify the view:"
   ]
  },
  {
   "cell_type": "code",
   "execution_count": 29,
   "metadata": {},
   "outputs": [
    {
     "name": "stdout",
     "output_type": "stream",
     "text": [
      "Overwriting lists/views.py\n"
     ]
    }
   ],
   "source": [
    "%%writefile lists/views.py\n",
    "from django.shortcuts import redirect, render\n",
    "from lists.models import Item\n",
    "\n",
    "def home_page(request):\n",
    "    if request.method == 'POST':\n",
    "        Item.objects.create(text=request.POST['item_text'])\n",
    "        return redirect('/')\n",
    "\n",
    "    return render(request, 'home.html')"
   ]
  },
  {
   "cell_type": "markdown",
   "metadata": {},
   "source": [
    "Multiple return statements.  Hmm.  Well, the behavior is clearer; if you see a POST request, pass it on, and then re-load the homepage.  Otherwise, just load the homepage."
   ]
  },
  {
   "cell_type": "code",
   "execution_count": 30,
   "metadata": {},
   "outputs": [
    {
     "name": "stdout",
     "output_type": "stream",
     "text": [
      "Creating test database for alias 'default'...\n",
      "System check identified no issues (0 silenced).\n",
      "Destroying test database for alias 'default'...\n"
     ]
    },
    {
     "name": "stderr",
     "output_type": "stream",
     "text": [
      "....\n",
      "----------------------------------------------------------------------\n",
      "Ran 4 tests in 0.032s\n",
      "\n",
      "OK\n"
     ]
    }
   ],
   "source": [
    "!python manage.py test"
   ]
  },
  {
   "cell_type": "markdown",
   "metadata": {},
   "source": [
    "## Clean Up: Each Test Should only Test One Thing\n",
    "\n",
    "We should reduce the number of assertions per test func in order to simplify bug tracking.  One reason is that the test stops as soon as it hits one failed assertion, without testing downstream assertions.  So we want to refactor the `test_can_save_a_POST_request` func that we just wrote, and break it out into more methods:"
   ]
  },
  {
   "cell_type": "code",
   "execution_count": 32,
   "metadata": {},
   "outputs": [
    {
     "name": "stdout",
     "output_type": "stream",
     "text": [
      "Overwriting lists/tests.py\n"
     ]
    }
   ],
   "source": [
    "%%writefile lists/tests.py\n",
    "from django.test import TestCase\n",
    "from lists.models import Item\n",
    "\n",
    "class HomePageTest(TestCase):\n",
    "\n",
    "    def test_home_page_returns_correct_html(self):\n",
    "        response = self.client.get('/')\n",
    "        self.assertTemplateUsed(response, 'home.html')\n",
    "\n",
    "    def test_can_save_a_POST_request(self):\n",
    "        self.client.post('/', data={'item_text': 'A new list item'})\n",
    "\n",
    "        self.assertEqual(Item.objects.count(), 1)\n",
    "        new_item = Item.objects.first()\n",
    "        self.assertEqual(new_item.text, 'A new list item')\n",
    "\n",
    "    def test_redirects_after_POST(self):\n",
    "        response = self.client.post('/', data={'item_text': 'A new list item'})\n",
    "        self.assertEqual(response.status_code, 302)\n",
    "        self.assertEqual(response['location'], '/')\n",
    "\n",
    "    def test_only_saves_items_when_necessary(self):\n",
    "        self.client.get('/')\n",
    "        self.assertEqual(Item.objects.count(), 0)\n",
    "\n",
    "\n",
    "class ItemModelTest(TestCase):\n",
    "    \n",
    "    def test_saving_and_retrieving_items(self):\n",
    "        first_item = Item()\n",
    "        first_item.text = 'The first (ever) list item'\n",
    "        first_item.save()\n",
    "\n",
    "        second_item = Item()\n",
    "        second_item.text = 'Item the second'\n",
    "        second_item.save()\n",
    "\n",
    "        saved_items = Item.objects.all()\n",
    "        self.assertEqual(saved_items.count(), 2)\n",
    "\n",
    "        first_saved_item = saved_items[0]\n",
    "        second_saved_item = saved_items[1]\n",
    "        self.assertEqual(first_saved_item.text, 'The first (ever) list item')\n",
    "        self.assertEqual(second_saved_item.text, 'Item the second')\n"
   ]
  },
  {
   "cell_type": "code",
   "execution_count": 33,
   "metadata": {},
   "outputs": [
    {
     "name": "stdout",
     "output_type": "stream",
     "text": [
      "Creating test database for alias 'default'...\n",
      "System check identified no issues (0 silenced).\n",
      "Destroying test database for alias 'default'...\n"
     ]
    },
    {
     "name": "stderr",
     "output_type": "stream",
     "text": [
      ".....\n",
      "----------------------------------------------------------------------\n",
      "Ran 5 tests in 0.029s\n",
      "\n",
      "OK\n"
     ]
    }
   ],
   "source": [
    "!python manage.py test"
   ]
  },
  {
   "cell_type": "markdown",
   "metadata": {},
   "source": [
    "Then, he says to address the third item in the to-do list from before; making sure that the template can display more than one list item:"
   ]
  },
  {
   "cell_type": "code",
   "execution_count": 35,
   "metadata": {},
   "outputs": [
    {
     "name": "stdout",
     "output_type": "stream",
     "text": [
      "Overwriting lists/tests.py\n"
     ]
    }
   ],
   "source": [
    "%%writefile lists/tests.py\n",
    "from django.test import TestCase\n",
    "from lists.models import Item\n",
    "\n",
    "class HomePageTest(TestCase):\n",
    "\n",
    "    def test_home_page_returns_correct_html(self):\n",
    "        response = self.client.get('/')\n",
    "        self.assertTemplateUsed(response, 'home.html')\n",
    "\n",
    "    def test_can_save_a_POST_request(self):\n",
    "        self.client.post('/', data={'item_text': 'A new list item'})\n",
    "\n",
    "        self.assertEqual(Item.objects.count(), 1)\n",
    "        new_item = Item.objects.first()\n",
    "        self.assertEqual(new_item.text, 'A new list item')\n",
    "\n",
    "    def test_redirects_after_POST(self):\n",
    "        response = self.client.post('/', data={'item_text': 'A new list item'})\n",
    "        self.assertEqual(response.status_code, 302)\n",
    "        self.assertEqual(response['location'], '/')\n",
    "\n",
    "    def test_only_saves_items_when_necessary(self):\n",
    "        self.client.get('/')\n",
    "        self.assertEqual(Item.objects.count(), 0)\n",
    "\n",
    "    def test_displays_all_list_items(self):\n",
    "        Item.objects.create(text='itemey 1')\n",
    "        Item.objects.create(text='itemey 2')\n",
    "\n",
    "        response = self.client.get('/')\n",
    "\n",
    "        self.assertIn('itemey 1', response.content.decode())\n",
    "        self.assertIn('itemey 2', response.content.decode())\n",
    "\n",
    "\n",
    "class ItemModelTest(TestCase):\n",
    "    \n",
    "    def test_saving_and_retrieving_items(self):\n",
    "        first_item = Item()\n",
    "        first_item.text = 'The first (ever) list item'\n",
    "        first_item.save()\n",
    "\n",
    "        second_item = Item()\n",
    "        second_item.text = 'Item the second'\n",
    "        second_item.save()\n",
    "\n",
    "        saved_items = Item.objects.all()\n",
    "        self.assertEqual(saved_items.count(), 2)\n",
    "\n",
    "        first_saved_item = saved_items[0]\n",
    "        second_saved_item = saved_items[1]\n",
    "        self.assertEqual(first_saved_item.text, 'The first (ever) list item')\n",
    "        self.assertEqual(second_saved_item.text, 'Item the second')\n"
   ]
  },
  {
   "cell_type": "markdown",
   "metadata": {},
   "source": [
    "Which has an expected failure like \"`itemey 1 not found in <html>...`\":"
   ]
  },
  {
   "cell_type": "code",
   "execution_count": 36,
   "metadata": {},
   "outputs": [
    {
     "name": "stdout",
     "output_type": "stream",
     "text": [
      "Creating test database for alias 'default'...\n",
      "System check identified no issues (0 silenced).\n",
      "Destroying test database for alias 'default'...\n"
     ]
    },
    {
     "name": "stderr",
     "output_type": "stream",
     "text": [
      ".F....\n",
      "======================================================================\n",
      "FAIL: test_displays_all_list_items (lists.tests.HomePageTest)\n",
      "----------------------------------------------------------------------\n",
      "Traceback (most recent call last):\n",
      "  File \"c:\\Data\\projects\\test_driven_development\\lists\\tests.py\", line 32, in test_displays_all_list_items\n",
      "    self.assertIn('itemey 1', response.content.decode())\n",
      "AssertionError: 'itemey 1' not found in '<html>\\n    <head>\\n        <title>To-Do lists</title>\\n    </head>\\n    <body>\\n        <h1>Your To-Do list</h1>\\n        <form method=\"POST\">\\n            <input name=\"item_text\" id=\"id_new_item\" placeholder=\"Enter a to-do item\" />\\n            <input type=\\'hidden\\' name=\\'csrfmiddlewaretoken\\' value=\\'5hDyfM5IHLtBvcjYS7rn7wWMs9nFsmlVY2w8qK0mjNhPEHwJrPiqf3aYXQAIh8yc\\' />\\n        </form>\\n        <table id=\"id_list_table\">\\n            <tr><td>1: </td></tr>\\n        </table>\\n    </body>\\n</html>\\n'\n",
      "\n",
      "----------------------------------------------------------------------\n",
      "Ran 6 tests in 0.031s\n",
      "\n",
      "FAILED (failures=1)\n"
     ]
    }
   ],
   "source": [
    "!python manage.py test"
   ]
  },
  {
   "cell_type": "markdown",
   "metadata": {},
   "source": [
    "To address this, we actually modify the template file.  He says the Django/Jinja syntax for iterating through lists is still single curly brace and percent signs, but otherwise it's normal Python `for` syntax, *except that* in order to exit the loop you need a closing `endfor` statement:"
   ]
  },
  {
   "cell_type": "code",
   "execution_count": 39,
   "metadata": {},
   "outputs": [
    {
     "name": "stdout",
     "output_type": "stream",
     "text": [
      "Overwriting lists/templates/home.html\n"
     ]
    }
   ],
   "source": [
    "%%writefile lists/templates/home.html\n",
    "<html>\n",
    "    <head>\n",
    "        <title>To-Do lists</title>\n",
    "    </head>\n",
    "    <body>\n",
    "        <h1>Your To-Do list</h1>\n",
    "        <form method=\"POST\">\n",
    "            <input name=\"item_text\" id=\"id_new_item\" placeholder=\"Enter a to-do item\" />\n",
    "            {% csrf_token %}\n",
    "        </form>\n",
    "        <table id=\"id_list_table\">\n",
    "            {% for item in items %}\n",
    "                <tr><td>1: {{ item.text }}</td></tr>\n",
    "            {% endfor %}\n",
    "        </table>\n",
    "    </body>\n",
    "</html>\n"
   ]
  },
  {
   "cell_type": "markdown",
   "metadata": {},
   "source": [
    "Then, we also need to modify how the view renders, passing the items input by the test to the template iteratively:"
   ]
  },
  {
   "cell_type": "code",
   "execution_count": 41,
   "metadata": {},
   "outputs": [
    {
     "name": "stdout",
     "output_type": "stream",
     "text": [
      "Overwriting lists/views.py\n"
     ]
    }
   ],
   "source": [
    "%%writefile lists/views.py\n",
    "from django.shortcuts import redirect, render\n",
    "from lists.models import Item\n",
    "\n",
    "def home_page(request):\n",
    "    if request.method == 'POST':\n",
    "        Item.objects.create(text=request.POST['item_text'])\n",
    "        return redirect('/')\n",
    "\n",
    "    items = Item.objects.all()\n",
    "    return render(request, 'home.html', {'items': items})\n"
   ]
  },
  {
   "cell_type": "code",
   "execution_count": 43,
   "metadata": {},
   "outputs": [
    {
     "name": "stderr",
     "output_type": "stream",
     "text": [
      "F\n",
      "======================================================================\n",
      "FAIL: test_can_start_a_list_and_retrieve_it_later (__main__.NewVisitorTest)\n",
      "----------------------------------------------------------------------\n",
      "Traceback (most recent call last):\n",
      "  File \"functional_tests.py\", line 25, in test_can_start_a_list_and_retrieve_it_later\n",
      "    self.assertIn('To-Do', self.browser.title)\n",
      "AssertionError: 'To-Do' not found in 'OperationalError at /'\n",
      "\n",
      "----------------------------------------------------------------------\n",
      "Ran 1 test in 6.601s\n",
      "\n",
      "FAILED (failures=1)\n"
     ]
    }
   ],
   "source": [
    "!python functional_tests.py"
   ]
  },
  {
   "cell_type": "markdown",
   "metadata": {},
   "source": [
    "But that error is actually anticipated in the text.  It brings up a point he wants to emphasize, that running your functional tests involves slightly different approaches than running the unit tests.  He suggests opening the url (\"`http://localhost:8000`\") manually in a window to see more context from Django, and it says \"`no such table: lists_item`\".\n",
    "\n",
    "Basically, the issue turns out to be that, since modifying our template, we haven't *migrated* our database to get Django to update it.  This won't be detected when running unit tests because Django sets up its own, separate test databases when running unit tests, but when you're running the functional test, you should be checking the actual database that your webpage/app is using.\n",
    "\n",
    "So actually, and maybe a little surprisingly, this project actually hasn't created a valid database at this point.  Harry says that \"*SQLite databases are just a file on disk, and you'll see in `settings.py` that Django, by default, will just put it in a file called `db.sqlite3` in the base project directory*\".\n",
    "\n",
    "There's text in the book here taht indicates a dict called `DATABASES`; it's unclear if it was supposed to have been created automatically by some specific command, or if we're supposed to add it ourselves.  After loading the `settings` file below, I don't see it, so I'll add it manually (BTW, there's a docstring pointing to the docs [here](https://docs.djangoproject.com/en/1.11/ref/settings/#databases) with the relevant syntax for what the dict may contain):"
   ]
  },
  {
   "cell_type": "code",
   "execution_count": 45,
   "metadata": {},
   "outputs": [
    {
     "name": "stdout",
     "output_type": "stream",
     "text": [
      "Overwriting superlists/settings.py\n"
     ]
    }
   ],
   "source": [
    "%%writefile superlists/settings.py\n",
    "\"\"\"\n",
    "Django settings for superlists project.\n",
    "\n",
    "Generated by 'django-admin startproject' using Django 1.11.25.\n",
    "\n",
    "For more information on this file, see\n",
    "https://docs.djangoproject.com/en/1.11/topics/settings/\n",
    "\n",
    "For the full list of settings and their values, see\n",
    "https://docs.djangoproject.com/en/1.11/ref/settings/\n",
    "\"\"\"\n",
    "\n",
    "import os\n",
    "\n",
    "# Build paths inside the project like this: os.path.join(BASE_DIR, ...)\n",
    "BASE_DIR = os.path.dirname(os.path.dirname(os.path.abspath(__file__)))\n",
    "\n",
    "\n",
    "# Quick-start development settings - unsuitable for production\n",
    "# See https://docs.djangoproject.com/en/1.11/howto/deployment/checklist/\n",
    "\n",
    "# SECURITY WARNING: keep the secret key used in production secret!\n",
    "SECRET_KEY = '&3s70fkdcir5wp&^vk4_hp^4-xwvovk&ms2!kzw+$)^o*8k+-('\n",
    "\n",
    "# SECURITY WARNING: don't run with debug turned on in production!\n",
    "DEBUG = True\n",
    "\n",
    "ALLOWED_HOSTS = []\n",
    "\n",
    "\n",
    "# Application definition\n",
    "\n",
    "INSTALLED_APPS = [\n",
    "    'django.contrib.admin',\n",
    "    'django.contrib.auth',\n",
    "    'django.contrib.contenttypes',\n",
    "    'django.contrib.sessions',\n",
    "    'django.contrib.messages',\n",
    "    'django.contrib.staticfiles',\n",
    "    'lists',\n",
    "]\n",
    "\n",
    "MIDDLEWARE = [\n",
    "    'django.middleware.security.SecurityMiddleware',\n",
    "    'django.contrib.sessions.middleware.SessionMiddleware',\n",
    "    'django.middleware.common.CommonMiddleware',\n",
    "    'django.middleware.csrf.CsrfViewMiddleware',\n",
    "    'django.contrib.auth.middleware.AuthenticationMiddleware',\n",
    "    'django.contrib.messages.middleware.MessageMiddleware',\n",
    "    'django.middleware.clickjacking.XFrameOptionsMiddleware',\n",
    "]\n",
    "\n",
    "ROOT_URLCONF = 'superlists.urls'\n",
    "\n",
    "TEMPLATES = [\n",
    "    {\n",
    "        'BACKEND': 'django.template.backends.django.DjangoTemplates',\n",
    "        'DIRS': [],\n",
    "        'APP_DIRS': True,\n",
    "        'OPTIONS': {\n",
    "            'context_processors': [\n",
    "                'django.template.context_processors.debug',\n",
    "                'django.template.context_processors.request',\n",
    "                'django.contrib.auth.context_processors.auth',\n",
    "                'django.contrib.messages.context_processors.messages',\n",
    "            ],\n",
    "        },\n",
    "    },\n",
    "]\n",
    "\n",
    "WSGI_APPLICATION = 'superlists.wsgi.application'\n",
    "\n",
    "\n",
    "# Database\n",
    "# https://docs.djangoproject.com/en/1.11/ref/settings/#databases\n",
    "\n",
    "DATABASES = {\n",
    "    'default': {\n",
    "        'ENGINE': 'django.db.backends.sqlite3',\n",
    "        'NAME': os.path.join(BASE_DIR, 'db.sqlite3'),\n",
    "    }\n",
    "}\n",
    "\n",
    "\n",
    "# Password validation\n",
    "# https://docs.djangoproject.com/en/1.11/ref/settings/#auth-password-validators\n",
    "\n",
    "AUTH_PASSWORD_VALIDATORS = [\n",
    "    {\n",
    "        'NAME': 'django.contrib.auth.password_validation.UserAttributeSimilarityValidator',\n",
    "    },\n",
    "    {\n",
    "        'NAME': 'django.contrib.auth.password_validation.MinimumLengthValidator',\n",
    "    },\n",
    "    {\n",
    "        'NAME': 'django.contrib.auth.password_validation.CommonPasswordValidator',\n",
    "    },\n",
    "    {\n",
    "        'NAME': 'django.contrib.auth.password_validation.NumericPasswordValidator',\n",
    "    },\n",
    "]\n",
    "\n",
    "\n",
    "# Internationalization\n",
    "# https://docs.djangoproject.com/en/1.11/topics/i18n/\n",
    "\n",
    "LANGUAGE_CODE = 'en-us'\n",
    "\n",
    "TIME_ZONE = 'UTC'\n",
    "\n",
    "USE_I18N = True\n",
    "\n",
    "USE_L10N = True\n",
    "\n",
    "USE_TZ = True\n",
    "\n",
    "\n",
    "# Static files (CSS, JavaScript, Images)\n",
    "# https://docs.djangoproject.com/en/1.11/howto/static-files/\n",
    "\n",
    "STATIC_URL = '/static/'\n",
    "\n",
    "DATABASES = {\n",
    "    'default': {\n",
    "        'ENGINE': 'django.db.backends.sqlite3',\n",
    "        'NAME': os.path.join(BASE_DIR, 'db.sqlite3'),\n",
    "    }\n",
    "}"
   ]
  },
  {
   "cell_type": "markdown",
   "metadata": {},
   "source": [
    "Then, to apply these changes, we need to call `manage.py migrate`:"
   ]
  },
  {
   "cell_type": "code",
   "execution_count": 46,
   "metadata": {},
   "outputs": [
    {
     "name": "stdout",
     "output_type": "stream",
     "text": [
      "Operations to perform:\n",
      "  Apply all migrations: admin, auth, contenttypes, lists, sessions\n",
      "Running migrations:\n",
      "  Applying contenttypes.0001_initial... OK\n",
      "  Applying auth.0001_initial... OK\n",
      "  Applying admin.0001_initial... OK\n",
      "  Applying admin.0002_logentry_remove_auto_add... OK\n",
      "  Applying contenttypes.0002_remove_content_type_name... OK\n",
      "  Applying auth.0002_alter_permission_name_max_length... OK\n",
      "  Applying auth.0003_alter_user_email_max_length... OK\n",
      "  Applying auth.0004_alter_user_username_opts... OK\n",
      "  Applying auth.0005_alter_user_last_login_null... OK\n",
      "  Applying auth.0006_require_contenttypes_0002... OK\n",
      "  Applying auth.0007_alter_validators_add_error_messages... OK\n",
      "  Applying auth.0008_alter_user_username_max_length... OK\n",
      "  Applying lists.0001_initial... OK\n",
      "  Applying lists.0002_item_text... OK\n",
      "  Applying sessions.0001_initial... OK\n"
     ]
    }
   ],
   "source": [
    "!python manage.py migrate"
   ]
  },
  {
   "cell_type": "markdown",
   "metadata": {},
   "source": [
    "That gets rid of the error seen when opening the browser yourself; also re-try the functional test:"
   ]
  },
  {
   "cell_type": "code",
   "execution_count": 47,
   "metadata": {},
   "outputs": [
    {
     "name": "stderr",
     "output_type": "stream",
     "text": [
      "F\n",
      "======================================================================\n",
      "FAIL: test_can_start_a_list_and_retrieve_it_later (__main__.NewVisitorTest)\n",
      "----------------------------------------------------------------------\n",
      "Traceback (most recent call last):\n",
      "  File \"functional_tests.py\", line 56, in test_can_start_a_list_and_retrieve_it_later\n",
      "    self.check_for_row_in_list_table('2: Use peacock feathers to make a fly')\n",
      "  File \"functional_tests.py\", line 17, in check_for_row_in_list_table\n",
      "    self.assertIn(row_text, [row.text for row in rows])\n",
      "AssertionError: '2: Use peacock feathers to make a fly' not found in ['1: Buy peacock feathers', '1: Use peacock feathers to make a fly']\n",
      "\n",
      "----------------------------------------------------------------------\n",
      "Ran 1 test in 12.763s\n",
      "\n",
      "FAILED (failures=1)\n"
     ]
    }
   ],
   "source": [
    "!python functional_tests.py"
   ]
  },
  {
   "cell_type": "markdown",
   "metadata": {},
   "source": [
    "Obviously, another contrived example to offer a teaching point.  In this case, it's that the numbering as rendered doesn't match what's expected by the test, and the preferred way to offload such manual numbering is to modify the Jinja syntax in the template file that's executing the `for` loop, to use a `forloop.counter` var to store which number we're on:"
   ]
  },
  {
   "cell_type": "code",
   "execution_count": 49,
   "metadata": {},
   "outputs": [
    {
     "name": "stdout",
     "output_type": "stream",
     "text": [
      "Overwriting lists/templates/home.html\n"
     ]
    }
   ],
   "source": [
    "%%writefile lists/templates/home.html\n",
    "<html>\n",
    "    <head>\n",
    "        <title>To-Do lists</title>\n",
    "    </head>\n",
    "    <body>\n",
    "        <h1>Your To-Do list</h1>\n",
    "        <form method=\"POST\">\n",
    "            <input name=\"item_text\" id=\"id_new_item\" placeholder=\"Enter a to-do item\" />\n",
    "            {% csrf_token %}\n",
    "        </form>\n",
    "        <table id=\"id_list_table\">\n",
    "            {% for item in items %}\n",
    "                <tr><td> {{ forloop.counter }}: {{ item.text }}</td></tr>\n",
    "            {% endfor %}\n",
    "        </table>\n",
    "    </body>\n",
    "</html>\n"
   ]
  },
  {
   "cell_type": "code",
   "execution_count": 50,
   "metadata": {},
   "outputs": [
    {
     "name": "stderr",
     "output_type": "stream",
     "text": [
      ".\n",
      "----------------------------------------------------------------------\n",
      "Ran 1 test in 11.863s\n",
      "\n",
      "OK\n"
     ]
    }
   ],
   "source": [
    "!python functional_tests.py"
   ]
  },
  {
   "cell_type": "markdown",
   "metadata": {},
   "source": [
    "But the text points out at this juncture that we're seeing duplicate messages of the numbered items in the browser window that pops up, even though the logic in the functional tests file passes.  The point is that the database itself is logging new entries every time we run it, and they'll continue to pile up.  We would prefer having the database wiped (at least of any entries made by the functional tests) whenever such a test concludes.  For now, he instead has us delete the `db.sqlite3` file, execute another `migrate` command, with the additional flag `--noinput`, with no explanation why that's required.  But apparently the database files will be successfully regenerated by the `migrate` call, now that we've modified the `settings` file."
   ]
  },
  {
   "cell_type": "code",
   "execution_count": 51,
   "metadata": {},
   "outputs": [],
   "source": [
    "import os\n",
    "\n",
    "# os.remove('db.sqlite3')"
   ]
  },
  {
   "cell_type": "code",
   "execution_count": 52,
   "metadata": {},
   "outputs": [
    {
     "name": "stdout",
     "output_type": "stream",
     "text": [
      "Operations to perform:\n",
      "  Apply all migrations: admin, auth, contenttypes, lists, sessions\n",
      "Running migrations:\n",
      "  Applying contenttypes.0001_initial... OK\n",
      "  Applying auth.0001_initial... OK\n",
      "  Applying admin.0001_initial... OK\n",
      "  Applying admin.0002_logentry_remove_auto_add... OK\n",
      "  Applying contenttypes.0002_remove_content_type_name... OK\n",
      "  Applying auth.0002_alter_permission_name_max_length... OK\n",
      "  Applying auth.0003_alter_user_email_max_length... OK\n",
      "  Applying auth.0004_alter_user_username_opts... OK\n",
      "  Applying auth.0005_alter_user_last_login_null... OK\n",
      "  Applying auth.0006_require_contenttypes_0002... OK\n",
      "  Applying auth.0007_alter_validators_add_error_messages... OK\n",
      "  Applying auth.0008_alter_user_username_max_length... OK\n",
      "  Applying lists.0001_initial... OK\n",
      "  Applying lists.0002_item_text... OK\n",
      "  Applying sessions.0001_initial... OK\n"
     ]
    }
   ],
   "source": [
    "!python manage.py migrate --noinput"
   ]
  },
  {
   "cell_type": "markdown",
   "metadata": {},
   "source": [
    "And finally, he suggests another commit to round out Chapter 5."
   ]
  },
  {
   "cell_type": "markdown",
   "metadata": {},
   "source": []
  },
  {
   "cell_type": "markdown",
   "metadata": {},
   "source": []
  },
  {
   "cell_type": "markdown",
   "metadata": {},
   "source": []
  },
  {
   "cell_type": "markdown",
   "metadata": {},
   "source": []
  },
  {
   "cell_type": "markdown",
   "metadata": {},
   "source": []
  },
  {
   "cell_type": "markdown",
   "metadata": {},
   "source": []
  },
  {
   "cell_type": "markdown",
   "metadata": {},
   "source": []
  },
  {
   "cell_type": "markdown",
   "metadata": {},
   "source": []
  },
  {
   "cell_type": "markdown",
   "metadata": {},
   "source": []
  },
  {
   "cell_type": "markdown",
   "metadata": {},
   "source": []
  },
  {
   "cell_type": "markdown",
   "metadata": {},
   "source": []
  },
  {
   "cell_type": "markdown",
   "metadata": {},
   "source": []
  },
  {
   "cell_type": "markdown",
   "metadata": {},
   "source": []
  },
  {
   "cell_type": "markdown",
   "metadata": {},
   "source": []
  },
  {
   "cell_type": "markdown",
   "metadata": {},
   "source": []
  },
  {
   "cell_type": "markdown",
   "metadata": {},
   "source": []
  },
  {
   "cell_type": "markdown",
   "metadata": {},
   "source": []
  },
  {
   "cell_type": "markdown",
   "metadata": {},
   "source": []
  },
  {
   "cell_type": "markdown",
   "metadata": {},
   "source": []
  }
 ],
 "metadata": {
  "interpreter": {
   "hash": "132b65336a829e6530b03c2ac43b744d0aab8a1a430c616a24f2cd56f79cc52e"
  },
  "kernelspec": {
   "display_name": "Python 3.6.15 64-bit ('test_dev_book': conda)",
   "language": "python",
   "name": "python3"
  },
  "language_info": {
   "codemirror_mode": {
    "name": "ipython",
    "version": 3
   },
   "file_extension": ".py",
   "mimetype": "text/x-python",
   "name": "python",
   "nbconvert_exporter": "python",
   "pygments_lexer": "ipython3",
   "version": "3.6.15"
  },
  "orig_nbformat": 4
 },
 "nbformat": 4,
 "nbformat_minor": 2
}
