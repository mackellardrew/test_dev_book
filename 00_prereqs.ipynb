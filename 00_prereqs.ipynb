{
 "cells": [
  {
   "cell_type": "markdown",
   "source": [
    "# Introduction\n",
    "\n",
    "I'm starting some notebooks and a repo to follow along with the second edition of the O'Reilly book *Test-Driven Development with Python*, by Harry Percival.  I've been meaning to get some more hands-on practice with testing for some time, and this book looks like a good way to get an overview of the ecosystem and practices for it in Python.  I'm starting this in early 2022, and the 2nd edition of the book is from 2017, which isn't *too* old, with the assumption that these tools change a little more slowly than, say, Machine Learning or some other field.\n",
    "\n",
    "Harry points out early on that the idea of \"test-driven development\" involves writing tests *first*, before writing code for your project, in order to ensure that you don't miss out on testing, or write code that's particularly hard to test thoroughly.  That's what he calls the test \"GOAT\": the admonition to always write tests *first*.\n",
    "\n",
    "Anyways, before we actually follow along with code, we have to set up a virtual environment with the dependencies he'll use, including Django and Selenium (his proposed use case for the book is writing a website holding a to-do list).\n",
    "\n",
    "He suggests a few resources in this *Prerequisites and Assumptions* section:\n",
    "\n",
    "* If you're not really familiar with writing HTML (and I'm not), check out [webplatform](https://webplatform.github.io/)\n",
    "* For an overview of Django, they have an [official tutorial](https://docs.djangoproject.com/en/1.11/intro/tutorial01/); he sticks with v1.11 for this book\n",
    "\n",
    "I'll write the env here, and modify if necessary.  I'll use Conda instead of `virtualenv`."
   ],
   "metadata": {}
  },
  {
   "cell_type": "code",
   "execution_count": 7,
   "source": [
    "import yaml\n",
    "import os\n",
    "from pathlib import Path\n",
    "\n",
    "conda_json = {\n",
    "    'name': 'test_dev_book',\n",
    "    'channels': ['conda-forge', 'hcc', 'defaults'],\n",
    "    'dependencies': [\n",
    "        'python=3.6',\n",
    "        'django<1.12',\n",
    "        'selenium<4',\n",
    "        'geckodriver',\n",
    "        'jupyter',\n",
    "        'ipykernel',\n",
    "        'pandas'\n",
    "    ],\n",
    "}\n",
    "\n",
    "home_dir = os.environ.get('HOME')\n",
    "config_dir = os.path.join(home_dir, 'conda_config')\n",
    "Path(config_dir).mkdir(exist_ok=True)\n",
    "config_path = os.path.join(config_dir, 'test_dev_book.yml')\n",
    "with open(config_path, 'w') as f:\n",
    "    yaml.dump(conda_json, f, indent=4)"
   ],
   "outputs": [],
   "metadata": {}
  },
  {
   "cell_type": "markdown",
   "source": [],
   "metadata": {}
  },
  {
   "cell_type": "markdown",
   "source": [],
   "metadata": {}
  },
  {
   "cell_type": "markdown",
   "source": [],
   "metadata": {}
  },
  {
   "cell_type": "markdown",
   "source": [],
   "metadata": {}
  },
  {
   "cell_type": "markdown",
   "source": [],
   "metadata": {}
  },
  {
   "cell_type": "markdown",
   "source": [],
   "metadata": {}
  },
  {
   "cell_type": "markdown",
   "source": [],
   "metadata": {}
  },
  {
   "cell_type": "markdown",
   "source": [],
   "metadata": {}
  },
  {
   "cell_type": "markdown",
   "source": [],
   "metadata": {}
  },
  {
   "cell_type": "markdown",
   "source": [],
   "metadata": {}
  }
 ],
 "metadata": {
  "orig_nbformat": 4,
  "language_info": {
   "name": "python",
   "version": "3.9.7",
   "mimetype": "text/x-python",
   "codemirror_mode": {
    "name": "ipython",
    "version": 3
   },
   "pygments_lexer": "ipython3",
   "nbconvert_exporter": "python",
   "file_extension": ".py"
  },
  "kernelspec": {
   "name": "python3",
   "display_name": "Python 3.9.7 64-bit ('jupyter': conda)"
  },
  "interpreter": {
   "hash": "bc015296cdc034c0e683a614c1a9c89e66c64fb3fdce22dba17943c974b66ede"
  }
 },
 "nbformat": 4,
 "nbformat_minor": 2
}