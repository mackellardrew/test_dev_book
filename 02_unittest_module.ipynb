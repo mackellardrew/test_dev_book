{
 "cells": [
  {
   "cell_type": "markdown",
   "source": [
    "# It's a big To-Do List\r\n",
    "\r\n",
    "Harry says the purpose of the website in this example will be pretty straightforward: a website hosting a list of actionable items.\r\n",
    "\r\n",
    "<div class=\"alert alert-info\">There's a box here saying that what he calls a <b>Functional Test</b> is sometimes called by others an <b>Acceptance Test</b> or <b>End-to-End Test</b>, or even <b>Black Box Test</b>, and that we should be aware that all of these are interchangeable terms, at least for our purposes here.</div>\r\n",
    "\r\n",
    "One concept is to consider such functional tests a human-readable \"user story\", i.e., patterned on how an end user might interact with our software in a common use case, from start to finish.  He starts with adding a bunch of comments to the `functional_tests.py` file written in the last chapter, but then points out they're largely overkill, so I'll skip most here.  But we do at least update what the title of the browser window should be:"
   ],
   "metadata": {}
  },
  {
   "cell_type": "code",
   "execution_count": 4,
   "source": [
    "%%writefile functional_tests.py\r\n",
    "\r\n",
    "from selenium import webdriver\r\n",
    "\r\n",
    "browser = webdriver.Firefox()\r\n",
    "\r\n",
    "# Edith wants to use our to-do page, and notes the url:\r\n",
    "browser.get('http://localhost:8000')\r\n",
    "\r\n",
    "# Its purpose is to host a to-do list\r\n",
    "assert 'To-Do' in browser.title\r\n",
    "\r\n",
    "# Additional downstream tests to ensure the server stays up and \r\n",
    "# saves changes made by the user to the list...\r\n",
    "\r\n",
    "browser.quit()"
   ],
   "outputs": [
    {
     "output_type": "stream",
     "name": "stdout",
     "text": [
      "Overwriting functional_tests.py\n"
     ]
    }
   ],
   "metadata": {}
  },
  {
   "cell_type": "markdown",
   "source": [
    "Ok, then we can (again) launch the server with\r\n",
    "\r\n",
    "`python manage.py runsever`\r\n",
    "\r\n",
    "But not from within this notebook, with the way my whole Windows/Firefox/WSL setup is currently rigged.  Once that's being hosted, running \r\n",
    "\r\n",
    "`python functional_tests.py`\r\n",
    "\r\n",
    "in another tab/window should generate an `AssertionError`, which it does for me at present.  Harry notes that's called an *expected fail*; a pretty minor first demonstration, but important to establish, nonetheless."
   ],
   "metadata": {}
  },
  {
   "cell_type": "markdown",
   "source": [
    "# The Python Standard Library's `unittest` Module\r\n",
    "\r\n",
    "Harry notes that one way to get a more informative expected failure than the blank `AssertionError` by just instructing the interpreter to spit out more of what it's seeing, with a line like:\r\n",
    "\r\n",
    "`assert 'To-Do' in browser.title, \"Browser title was \" + browser.title`\r\n",
    "\r\n",
    "and, since it's annoyint to leave Firefox open after this basic test fails, you could imagine using a `try`/`except`/`finally` block to handle closing the browser even if the assertion failure interrupts your script.  But these are such common needs that they're more professionally handled by whole packages/modules, including the `unittest` module that comes with every Python installation.  So we update the `functional_tests.py` file accordingly:"
   ],
   "metadata": {}
  },
  {
   "cell_type": "code",
   "execution_count": 5,
   "source": [
    "%%writefile functional_tests.py\r\n",
    "\r\n",
    "from selenium import webdriver\r\n",
    "import unittest\r\n",
    "\r\n",
    "class NewVisitorTest(unittest.TestCase):\r\n",
    "\r\n",
    "    def setUp(self):\r\n",
    "        self.browser = webdriver.Firefox()\r\n",
    "\r\n",
    "    def tearDown(self):\r\n",
    "        self.browser.quit()\r\n",
    "\r\n",
    "    def test_can_start_a_list_and_retrieve_it_later(self):\r\n",
    "        # Edith has heard about a cool new online to-do app.  She goes\r\n",
    "        # to check out its homepage\r\n",
    "        self.browser.get('http://localhost:8000')\r\n",
    "\r\n",
    "        # She notices the page title and header mention to-do lists\r\n",
    "        self.assertIn('To-Do', self.browser.title)\r\n",
    "        self.fail('Finish the test!')\r\n",
    "\r\n",
    "        # She is invited to enter a to-do item straight away\r\n",
    "        # ...\r\n",
    "    \r\n",
    "if __name__ == '__main__':\r\n",
    "    unittest.main(warnings='ignore')"
   ],
   "outputs": [
    {
     "output_type": "stream",
     "name": "stdout",
     "text": [
      "Overwriting functional_tests.py\n"
     ]
    }
   ],
   "metadata": {}
  },
  {
   "cell_type": "markdown",
   "source": [
    "For me, that outputs:\r\n",
    "\r\n",
    "~~~bash\r\n",
    "(test_dev_book) C:\\Data\\projects\\test_driven_development>python functional_tests.py\r\n",
    "F\r\n",
    "======================================================================\r\n",
    "FAIL: test_can_start_a_list_and_retrieve_it_later (__main__.NewVisitorTest)\r\n",
    "----------------------------------------------------------------------\r\n",
    "Traceback (most recent call last):\r\n",
    "  File \"functional_tests.py\", line 19, in test_can_start_a_list_and_retrieve_it_later\r\n",
    "    def tearDown(self):\r\n",
    "AssertionError: 'To-Do' not found in 'Welcome to Django'\r\n",
    "\r\n",
    "----------------------------------------------------------------------\r\n",
    "Ran 1 test in 6.532s\r\n",
    "\r\n",
    "FAILED (failures=1)\r\n",
    "~~~\r\n"
   ],
   "metadata": {}
  },
  {
   "cell_type": "markdown",
   "source": [
    "But before even evaluating outputs, he notes things about the code itself:\r\n",
    "\r\n",
    "* You're subclassing `unittest.TestCase`\r\n",
    "* The obnoxiously-long function name above is doing most of the heavy lifting there; apparently any such function within your subclass that starts with `test_` will be recognized and run by `unittest` whenever your `main` method is run.\r\n",
    "    * I'd personally abbreviate that method's name, but that's an aesthetic judgment; the important thing is to keep it sufficiently informative.\r\n",
    "* The `setUp` and `tearDown` methods are recognized by UnitTest to be executed sort of like the aforementioned `try`/`finally` kind of logic.  The result is that the Firefox window spawned is closed by the program.\r\n",
    "    * I also don't love the method names here; camel case seems more old-fashioned than lowercase with underscores, but I don't use classes a lot to date, perhaps that's still recommended.  And anyways you have to stick with what the module will recognize.\r\n",
    "* `unittest.TestCase.assertIn` replaces the builtin `assert` statement and accordingly brings in more helper functionality that is appropriate for tests; he points us to [the docs](https://docs.python.org/3/library/unittest.html) for details.\r\n",
    "* The `self.fail` method is meant as a placeholder to remind you to add more to your code base; it will always produce the failure and error message passed to it."
   ],
   "metadata": {}
  },
  {
   "cell_type": "markdown",
   "source": [],
   "metadata": {}
  },
  {
   "cell_type": "markdown",
   "source": [],
   "metadata": {}
  },
  {
   "cell_type": "markdown",
   "source": [],
   "metadata": {}
  },
  {
   "cell_type": "markdown",
   "source": [],
   "metadata": {}
  },
  {
   "cell_type": "markdown",
   "source": [],
   "metadata": {}
  },
  {
   "cell_type": "markdown",
   "source": [],
   "metadata": {}
  },
  {
   "cell_type": "markdown",
   "source": [],
   "metadata": {}
  },
  {
   "cell_type": "markdown",
   "source": [],
   "metadata": {}
  },
  {
   "cell_type": "markdown",
   "source": [],
   "metadata": {}
  }
 ],
 "metadata": {
  "orig_nbformat": 4,
  "language_info": {
   "name": "python",
   "version": "3.6.15",
   "mimetype": "text/x-python",
   "codemirror_mode": {
    "name": "ipython",
    "version": 3
   },
   "pygments_lexer": "ipython3",
   "nbconvert_exporter": "python",
   "file_extension": ".py"
  },
  "kernelspec": {
   "name": "python3",
   "display_name": "Python 3.6.15 64-bit ('test_dev_book': conda)"
  },
  "interpreter": {
   "hash": "132b65336a829e6530b03c2ac43b744d0aab8a1a430c616a24f2cd56f79cc52e"
  }
 },
 "nbformat": 4,
 "nbformat_minor": 2
}